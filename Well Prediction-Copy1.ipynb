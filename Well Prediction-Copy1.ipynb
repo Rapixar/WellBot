{
 "cells": [
  {
   "cell_type": "code",
   "execution_count": 30,
   "metadata": {},
   "outputs": [],
   "source": [
    "import tensorflow as tf\n",
    "\n",
    "from keras.models import Sequential\n",
    "from keras.layers import Dense, Dropout\n",
    "from keras.optimizers import Adam\n",
    "from keras.callbacks import EarlyStopping\n",
    "\n",
    "import pandas as pd\n",
    "\n",
    "import sklearn\n",
    "from sklearn import preprocessing\n",
    "from sklearn.model_selection import train_test_split\n",
    "from sklearn.metrics import r2_score\n",
    "\n",
    "from matplotlib import pyplot as plt"
   ]
  },
  {
   "cell_type": "code",
   "execution_count": 26,
   "metadata": {},
   "outputs": [],
   "source": [
    "df1 = pd.read_csv('C:/Users/HP/Documents/Well PR/welldatatrainSHMAX_XX.csv')\n",
    "df2 = pd.read_csv('C:/Users/HP/Documents/Well PR/welldatatrainSHMAX_Y.csv')"
   ]
  },
  {
   "cell_type": "code",
   "execution_count": 27,
   "metadata": {},
   "outputs": [],
   "source": [
    "X_train, X_test, y_train, y_test = train_test_split(df1, df2, test_size=0.4, random_state=1)\n",
    "X_train, X_val, y_train, y_val = train_test_split(X_train, y_train, test_size=0.2, random_state=1)"
   ]
  },
  {
   "cell_type": "code",
   "execution_count": 60,
   "metadata": {},
   "outputs": [],
   "source": [
    "#X_train = preprocessing.scale(X_train)\n",
    "\n",
    "#X_test = preprocessing.scale(X_train)"
   ]
  },
  {
   "cell_type": "code",
   "execution_count": null,
   "metadata": {},
   "outputs": [],
   "source": []
  },
  {
   "cell_type": "code",
   "execution_count": 218,
   "metadata": {
    "scrolled": true
   },
   "outputs": [
    {
     "name": "stdout",
     "output_type": "stream",
     "text": [
      "Train on 501 samples, validate on 126 samples\n",
      "Epoch 1/20\n",
      "501/501 [==============================] - 53s 106ms/step - loss: 0.0202 - mean_squared_error: 0.0202 - val_loss: 0.0040 - val_mean_squared_error: 0.0040\n",
      "Epoch 2/20\n",
      "501/501 [==============================] - 0s 483us/step - loss: 0.0014 - mean_squared_error: 0.0014 - val_loss: 8.9056e-04 - val_mean_squared_error: 8.9056e-04\n",
      "Epoch 3/20\n",
      "501/501 [==============================] - 0s 211us/step - loss: 0.0012 - mean_squared_error: 0.0012 - val_loss: 7.2520e-04 - val_mean_squared_error: 7.2520e-04\n",
      "Epoch 4/20\n",
      "501/501 [==============================] - 0s 241us/step - loss: 7.2442e-04 - mean_squared_error: 7.2442e-04 - val_loss: 5.3989e-04 - val_mean_squared_error: 5.3989e-04\n",
      "Epoch 5/20\n",
      "501/501 [==============================] - 0s 201us/step - loss: 7.1262e-04 - mean_squared_error: 7.1262e-04 - val_loss: 5.3564e-04 - val_mean_squared_error: 5.3564e-04\n",
      "Epoch 6/20\n",
      "501/501 [==============================] - 0s 215us/step - loss: 6.9197e-04 - mean_squared_error: 6.9197e-04 - val_loss: 5.2274e-04 - val_mean_squared_error: 5.2274e-04\n",
      "Epoch 7/20\n",
      "501/501 [==============================] - 0s 207us/step - loss: 6.9274e-04 - mean_squared_error: 6.9274e-04 - val_loss: 5.2122e-04 - val_mean_squared_error: 5.2122e-04\n",
      "Epoch 8/20\n",
      "501/501 [==============================] - 0s 309us/step - loss: 6.9014e-04 - mean_squared_error: 6.9014e-04 - val_loss: 5.2150e-04 - val_mean_squared_error: 5.2150e-04\n",
      "Epoch 9/20\n",
      "501/501 [==============================] - 0s 285us/step - loss: 6.9110e-04 - mean_squared_error: 6.9110e-04 - val_loss: 5.2105e-04 - val_mean_squared_error: 5.2105e-04\n",
      "Epoch 10/20\n",
      "501/501 [==============================] - 0s 255us/step - loss: 6.9162e-04 - mean_squared_error: 6.9162e-04 - val_loss: 5.2103e-04 - val_mean_squared_error: 5.2103e-04\n",
      "Epoch 11/20\n",
      "501/501 [==============================] - 0s 255us/step - loss: 6.9735e-04 - mean_squared_error: 6.9735e-04 - val_loss: 5.2478e-04 - val_mean_squared_error: 5.2478e-04\n",
      "Epoch 12/20\n",
      "501/501 [==============================] - 0s 172us/step - loss: 6.9419e-04 - mean_squared_error: 6.9419e-04 - val_loss: 5.2279e-04 - val_mean_squared_error: 5.2279e-04\n",
      "Epoch 13/20\n",
      "501/501 [==============================] - 0s 197us/step - loss: 6.9305e-04 - mean_squared_error: 6.9305e-04 - val_loss: 5.2268e-04 - val_mean_squared_error: 5.2268e-04\n",
      "Epoch 14/20\n",
      "501/501 [==============================] - 0s 194us/step - loss: 6.9238e-04 - mean_squared_error: 6.9238e-04 - val_loss: 5.2224e-04 - val_mean_squared_error: 5.2224e-04\n",
      "Epoch 15/20\n",
      "501/501 [==============================] - 0s 188us/step - loss: 6.8996e-04 - mean_squared_error: 6.8996e-04 - val_loss: 5.2167e-04 - val_mean_squared_error: 5.2167e-04\n",
      "Epoch 16/20\n",
      "501/501 [==============================] - 0s 211us/step - loss: 6.9203e-04 - mean_squared_error: 6.9203e-04 - val_loss: 5.2087e-04 - val_mean_squared_error: 5.2087e-04\n",
      "Epoch 17/20\n",
      "501/501 [==============================] - 0s 182us/step - loss: 6.9199e-04 - mean_squared_error: 6.9199e-04 - val_loss: 5.2163e-04 - val_mean_squared_error: 5.2163e-04\n",
      "Epoch 18/20\n",
      "501/501 [==============================] - 0s 341us/step - loss: 6.9377e-04 - mean_squared_error: 6.9377e-04 - val_loss: 5.2128e-04 - val_mean_squared_error: 5.2128e-04\n",
      "Epoch 19/20\n",
      "501/501 [==============================] - 0s 219us/step - loss: 6.9324e-04 - mean_squared_error: 6.9324e-04 - val_loss: 5.2090e-04 - val_mean_squared_error: 5.2090e-04\n",
      "Epoch 20/20\n",
      "501/501 [==============================] - 0s 192us/step - loss: 6.9257e-04 - mean_squared_error: 6.9257e-04 - val_loss: 5.2273e-04 - val_mean_squared_error: 5.2273e-04\n"
     ]
    },
    {
     "data": {
      "text/plain": [
       "[<matplotlib.lines.Line2D at 0x210ec3b0388>]"
      ]
     },
     "execution_count": 218,
     "metadata": {},
     "output_type": "execute_result"
    },
    {
     "data": {
      "image/png": "[encoded data removed]",
      "text/plain": [
       "<Figure size 576x432 with 1 Axes>"
      ]
     },
     "metadata": {},
     "output_type": "display_data"
    }
   ],
   "source": [
    "from keras.layers import Flatten\n",
    "model = Sequential()\n",
    "model.add(Dense(16, activation='softmax', input_shape=(7,)))\n",
    "model.add(Dense(16, activation='relu'))\n",
    "model.add(Dense(16, activation='sigmoid'))\n",
    "model.add(Dense(8, activation='sigmoid'))\n",
    "model.add(Dense(1))\n",
    "\n",
    "model.compile(optimizer='Adam', loss='mse', metrics=['mean_squared_error'])\n",
    "\n",
    "history = model.fit(X_train, y_train, epochs = 20, validation_data =(X_val, y_val))\n",
    "\n",
    "history_dict = history.history\n"
   ]
  },
  {
   "cell_type": "code",
   "execution_count": 219,
   "metadata": {},
   "outputs": [
    {
     "data": {
      "image/png": "[encoded data removed]",
      "text/plain": [
       "<Figure size 576x432 with 1 Axes>"
      ]
     },
     "metadata": {},
     "output_type": "display_data"
    }
   ],
   "source": [
    "loss_values = history_dict['loss']\n",
    "val_loss_values = history_dict['val_loss']\n",
    "plt.plot(loss_values,'b', label='training loss')\n",
    "plt.plot(val_loss_values, 'r', label='val training loss')\n",
    "plt.legend()\n",
    "plt.show()\n"
   ]
  },
  {
   "cell_type": "code",
   "execution_count": 69,
   "metadata": {},
   "outputs": [
    {
     "name": "stdout",
     "output_type": "stream",
     "text": [
      "The R2 score on the train set is:\t0.006\n",
      "The R2 score on the test set is:\t0.007\n"
     ]
    }
   ],
   "source": [
    "y_train_pred = model.predict(X_train)\n",
    "y_test_pred = model.predict(X_test)\n",
    "\n",
    "print(\"The R2 score on the train set is:\\t{:0.3f}\".format(r2_score(y_train, y_train_pred)))\n",
    "print(\"The R2 score on the test set is:\\t{:0.3f}\".format(r2_score(y_test, y_test_pred)))"
   ]
  },
  {
   "cell_type": "code",
   "execution_count": 78,
   "metadata": {},
   "outputs": [
    {
     "name": "stdout",
     "output_type": "stream",
     "text": [
      "418/418 [==============================] - 0s 210us/step\n"
     ]
    },
    {
     "data": {
      "text/plain": [
       "[1.6027791393557607e-05, 1.6027791393557607e-05]"
      ]
     },
     "execution_count": 78,
     "metadata": {},
     "output_type": "execute_result"
    }
   ],
   "source": [
    "model.evaluate(X_test, y_test_pred)"
   ]
  },
  {
   "cell_type": "code",
   "execution_count": 70,
   "metadata": {},
   "outputs": [
    {
     "data": {
      "text/plain": [
       "[<matplotlib.lines.Line2D at 0x210cded9808>,\n",
       " <matplotlib.lines.Line2D at 0x210cded9ac8>]"
      ]
     },
     "execution_count": 70,
     "metadata": {},
     "output_type": "execute_result"
    },
    {
     "data": {
      "image/png": "[encoded data removed]",
      "text/plain": [
       "<Figure size 432x288 with 1 Axes>"
      ]
     },
     "metadata": {
      "needs_background": "light"
     },
     "output_type": "display_data"
    }
   ],
   "source": [
    "\n",
    "plt.clf()\n",
    "#plt.plot(y_train,'go', y_train_pred, 'bo', label='Predicted SHmax')\n",
    "plt.plot(y_test, 'go', y_test_pred, 'ro', label='val training loss')"
   ]
  },
  {
   "cell_type": "code",
   "execution_count": 71,
   "metadata": {},
   "outputs": [
    {
     "data": {
      "text/plain": [
       "<bound method NDFrame.describe of      Shmax_norm\n",
       "949    0.561793\n",
       "94     0.549750\n",
       "135    0.516194\n",
       "614    0.526726\n",
       "354    0.506751\n",
       "..          ...\n",
       "699    0.467778\n",
       "494    0.527817\n",
       "428    0.509886\n",
       "139    0.542541\n",
       "434    0.528504\n",
       "\n",
       "[418 rows x 1 columns]>"
      ]
     },
     "execution_count": 71,
     "metadata": {},
     "output_type": "execute_result"
    }
   ],
   "source": [
    "y_test.describe"
   ]
  },
  {
   "cell_type": "code",
   "execution_count": 84,
   "metadata": {},
   "outputs": [
    {
     "data": {
      "text/plain": [
       "(627, 1)"
      ]
     },
     "execution_count": 84,
     "metadata": {},
     "output_type": "execute_result"
    }
   ],
   "source": [
    "y_test_pred.shape"
   ]
  },
  {
   "cell_type": "code",
   "execution_count": 82,
   "metadata": {},
   "outputs": [
    {
     "data": {
      "text/html": [
       "<div>\n",
       "<style scoped>\n",
       "    .dataframe tbody tr th:only-of-type {\n",
       "        vertical-align: middle;\n",
       "    }\n",
       "\n",
       "    .dataframe tbody tr th {\n",
       "        vertical-align: top;\n",
       "    }\n",
       "\n",
       "    .dataframe thead th {\n",
       "        text-align: right;\n",
       "    }\n",
       "</style>\n",
       "<table border=\"1\" class=\"dataframe\">\n",
       "  <thead>\n",
       "    <tr style=\"text-align: right;\">\n",
       "      <th></th>\n",
       "      <th>Shmax_norm</th>\n",
       "    </tr>\n",
       "  </thead>\n",
       "  <tbody>\n",
       "    <tr>\n",
       "      <td>716</td>\n",
       "      <td>0.575033</td>\n",
       "    </tr>\n",
       "    <tr>\n",
       "      <td>878</td>\n",
       "      <td>0.533110</td>\n",
       "    </tr>\n",
       "    <tr>\n",
       "      <td>253</td>\n",
       "      <td>0.519445</td>\n",
       "    </tr>\n",
       "    <tr>\n",
       "      <td>504</td>\n",
       "      <td>0.531692</td>\n",
       "    </tr>\n",
       "    <tr>\n",
       "      <td>490</td>\n",
       "      <td>0.511837</td>\n",
       "    </tr>\n",
       "    <tr>\n",
       "      <td>...</td>\n",
       "      <td>...</td>\n",
       "    </tr>\n",
       "    <tr>\n",
       "      <td>1035</td>\n",
       "      <td>0.529296</td>\n",
       "    </tr>\n",
       "    <tr>\n",
       "      <td>550</td>\n",
       "      <td>0.541137</td>\n",
       "    </tr>\n",
       "    <tr>\n",
       "      <td>815</td>\n",
       "      <td>0.564632</td>\n",
       "    </tr>\n",
       "    <tr>\n",
       "      <td>165</td>\n",
       "      <td>0.534935</td>\n",
       "    </tr>\n",
       "    <tr>\n",
       "      <td>540</td>\n",
       "      <td>0.553593</td>\n",
       "    </tr>\n",
       "  </tbody>\n",
       "</table>\n",
       "<p>418 rows × 1 columns</p>\n",
       "</div>"
      ],
      "text/plain": [
       "      Shmax_norm\n",
       "716     0.575033\n",
       "878     0.533110\n",
       "253     0.519445\n",
       "504     0.531692\n",
       "490     0.511837\n",
       "...          ...\n",
       "1035    0.529296\n",
       "550     0.541137\n",
       "815     0.564632\n",
       "165     0.534935\n",
       "540     0.553593\n",
       "\n",
       "[418 rows x 1 columns]"
      ]
     },
     "execution_count": 82,
     "metadata": {},
     "output_type": "execute_result"
    }
   ],
   "source": [
    "y_test"
   ]
  },
  {
   "cell_type": "code",
   "execution_count": 74,
   "metadata": {},
   "outputs": [
    {
     "data": {
      "image/png": "[encoded data removed]",
      "text/plain": [
       "<Figure size 432x288 with 1 Axes>"
      ]
     },
     "metadata": {
      "needs_background": "light"
     },
     "output_type": "display_data"
    }
   ],
   "source": [
    "plt.scatter(y_test, y_test_pred, marker='o')\n",
    "plt.xlim(0.4,0.7)\n",
    "plt.ylim(0.4,0.7)\n",
    "plt.show()"
   ]
  },
  {
   "cell_type": "code",
   "execution_count": null,
   "metadata": {},
   "outputs": [],
   "source": []
  },
  {
   "cell_type": "code",
   "execution_count": null,
   "metadata": {},
   "outputs": [],
   "source": []
  },
  {
   "cell_type": "code",
   "execution_count": null,
   "metadata": {},
   "outputs": [],
   "source": []
  },
  {
   "cell_type": "code",
   "execution_count": 111,
   "metadata": {},
   "outputs": [],
   "source": [
    "from pandas import DataFrame\n",
    "df = DataFrame(y_test_pred)\n"
   ]
  },
  {
   "cell_type": "code",
   "execution_count": 114,
   "metadata": {},
   "outputs": [],
   "source": [
    "export_csv=df.to_csv(r'C:\\Users\\HP\\Documents\\Well PR\\result.csv',index=None, header=True)"
   ]
  },
  {
   "cell_type": "code",
   "execution_count": 118,
   "metadata": {},
   "outputs": [],
   "source": [
    "df22=DataFrame(y_test)\n",
    "export_csv=df22.to_csv(r'C:\\Users\\HP\\Documents\\Well PR\\result22.csv',index=None, header=True)"
   ]
  },
  {
   "cell_type": "code",
   "execution_count": 116,
   "metadata": {},
   "outputs": [
    {
     "name": "stdout",
     "output_type": "stream",
     "text": [
      "            0\n",
      "0    0.543748\n",
      "1    0.501325\n",
      "2    0.518421\n",
      "3    0.521353\n",
      "4    0.601969\n",
      "..        ...\n",
      "413  0.516831\n",
      "414  0.511101\n",
      "415  0.534116\n",
      "416  0.512377\n",
      "417  0.538936\n",
      "\n",
      "[418 rows x 1 columns]\n"
     ]
    }
   ],
   "source": [
    "print(df)"
   ]
  },
  {
   "cell_type": "code",
   "execution_count": 117,
   "metadata": {},
   "outputs": [
    {
     "name": "stdout",
     "output_type": "stream",
     "text": [
      "     Shmax_norm\n",
      "968    0.545275\n",
      "687    0.502186\n",
      "413    0.519406\n",
      "204    0.522431\n",
      "729    0.602812\n",
      "..          ...\n",
      "11     0.517854\n",
      "131    0.511978\n",
      "502    0.535322\n",
      "386    0.513296\n",
      "857    0.540300\n",
      "\n",
      "[418 rows x 1 columns]\n"
     ]
    }
   ],
   "source": [
    "print(df22)"
   ]
  },
  {
   "cell_type": "code",
   "execution_count": null,
   "metadata": {},
   "outputs": [],
   "source": []
  }
 ],
 "metadata": {
  "kernelspec": {
   "display_name": "Python 3",
   "language": "python",
   "name": "python3"
  },
  "language_info": {
   "codemirror_mode": {
    "name": "ipython",
    "version": 3
   },
   "file_extension": ".py",
   "mimetype": "text/x-python",
   "name": "python",
   "nbconvert_exporter": "python",
   "pygments_lexer": "ipython3",
   "version": "3.7.4"
  }
 },
 "nbformat": 4,
 "nbformat_minor": 2
}
