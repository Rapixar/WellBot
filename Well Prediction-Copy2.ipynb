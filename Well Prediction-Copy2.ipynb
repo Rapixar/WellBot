{
 "cells": [
  {
   "cell_type": "code",
   "execution_count": 1,
   "metadata": {
    "raw_mimetype": "text/latex"
   },
   "outputs": [
    {
     "name": "stderr",
     "output_type": "stream",
     "text": [
      "Using TensorFlow backend.\n"
     ]
    }
   ],
   "source": [
    "import tensorflow as tf\n",
    "\n",
    "from keras.models import Sequential\n",
    "from keras.layers import Dense, Dropout\n",
    "from keras.optimizers import Adam\n",
    "from keras.callbacks import EarlyStopping\n",
    "\n",
    "import pandas as pd\n",
    "\n",
    "import sklearn\n",
    "from sklearn import preprocessing\n",
    "from sklearn.model_selection import train_test_split\n",
    "from sklearn.metrics import r2_score\n",
    "\n",
    "from matplotlib import pyplot as plt"
   ]
  },
  {
   "cell_type": "code",
   "execution_count": 2,
   "metadata": {},
   "outputs": [],
   "source": [
    "df1 = pd.read_csv('C:/Users/HP/Documents/Well PR/welldatatrainSHMAX_XX.csv')\n",
    "df2 = pd.read_csv('C:/Users/HP/Documents/Well PR/welldatatrainSHMAX_Y.csv')"
   ]
  },
  {
   "cell_type": "code",
   "execution_count": 5,
   "metadata": {},
   "outputs": [
    {
     "data": {
      "text/html": [
       "<div>\n",
       "<style scoped>\n",
       "    .dataframe tbody tr th:only-of-type {\n",
       "        vertical-align: middle;\n",
       "    }\n",
       "\n",
       "    .dataframe tbody tr th {\n",
       "        vertical-align: top;\n",
       "    }\n",
       "\n",
       "    .dataframe thead th {\n",
       "        text-align: right;\n",
       "    }\n",
       "</style>\n",
       "<table border=\"1\" class=\"dataframe\">\n",
       "  <thead>\n",
       "    <tr style=\"text-align: right;\">\n",
       "      <th></th>\n",
       "      <th>BMK_STAT Norm</th>\n",
       "      <th>HRA_norm</th>\n",
       "      <th>YME_Norm</th>\n",
       "      <th>RHOB_Norm</th>\n",
       "      <th>SMG Norm</th>\n",
       "      <th>PR_DYN</th>\n",
       "      <th>TNPH</th>\n",
       "    </tr>\n",
       "  </thead>\n",
       "  <tbody>\n",
       "    <tr>\n",
       "      <td>count</td>\n",
       "      <td>1045.000000</td>\n",
       "      <td>1045.000000</td>\n",
       "      <td>1045.000000</td>\n",
       "      <td>1045.000000</td>\n",
       "      <td>1045.000000</td>\n",
       "      <td>1045.000000</td>\n",
       "      <td>1045.000000</td>\n",
       "    </tr>\n",
       "    <tr>\n",
       "      <td>mean</td>\n",
       "      <td>0.435336</td>\n",
       "      <td>0.244689</td>\n",
       "      <td>0.631520</td>\n",
       "      <td>0.259990</td>\n",
       "      <td>0.402161</td>\n",
       "      <td>0.256835</td>\n",
       "      <td>0.030456</td>\n",
       "    </tr>\n",
       "    <tr>\n",
       "      <td>std</td>\n",
       "      <td>0.044559</td>\n",
       "      <td>0.102193</td>\n",
       "      <td>0.056975</td>\n",
       "      <td>0.008255</td>\n",
       "      <td>0.039096</td>\n",
       "      <td>0.023556</td>\n",
       "      <td>0.023268</td>\n",
       "    </tr>\n",
       "    <tr>\n",
       "      <td>min</td>\n",
       "      <td>0.197730</td>\n",
       "      <td>0.000000</td>\n",
       "      <td>0.313471</td>\n",
       "      <td>0.174460</td>\n",
       "      <td>0.191197</td>\n",
       "      <td>0.156378</td>\n",
       "      <td>0.006600</td>\n",
       "    </tr>\n",
       "    <tr>\n",
       "      <td>25%</td>\n",
       "      <td>0.412572</td>\n",
       "      <td>0.200000</td>\n",
       "      <td>0.615771</td>\n",
       "      <td>0.258260</td>\n",
       "      <td>0.390357</td>\n",
       "      <td>0.242309</td>\n",
       "      <td>0.016200</td>\n",
       "    </tr>\n",
       "    <tr>\n",
       "      <td>50%</td>\n",
       "      <td>0.436558</td>\n",
       "      <td>0.200000</td>\n",
       "      <td>0.639009</td>\n",
       "      <td>0.260210</td>\n",
       "      <td>0.406914</td>\n",
       "      <td>0.255178</td>\n",
       "      <td>0.021900</td>\n",
       "    </tr>\n",
       "    <tr>\n",
       "      <td>75%</td>\n",
       "      <td>0.460679</td>\n",
       "      <td>0.300000</td>\n",
       "      <td>0.659622</td>\n",
       "      <td>0.261890</td>\n",
       "      <td>0.423181</td>\n",
       "      <td>0.270588</td>\n",
       "      <td>0.035300</td>\n",
       "    </tr>\n",
       "    <tr>\n",
       "      <td>max</td>\n",
       "      <td>0.607010</td>\n",
       "      <td>0.500000</td>\n",
       "      <td>0.839937</td>\n",
       "      <td>0.287200</td>\n",
       "      <td>0.532654</td>\n",
       "      <td>0.346385</td>\n",
       "      <td>0.197900</td>\n",
       "    </tr>\n",
       "  </tbody>\n",
       "</table>\n",
       "</div>"
      ],
      "text/plain": [
       "       BMK_STAT Norm     HRA_norm     YME_Norm    RHOB_Norm     SMG Norm  \\\n",
       "count    1045.000000  1045.000000  1045.000000  1045.000000  1045.000000   \n",
       "mean        0.435336     0.244689     0.631520     0.259990     0.402161   \n",
       "std         0.044559     0.102193     0.056975     0.008255     0.039096   \n",
       "min         0.197730     0.000000     0.313471     0.174460     0.191197   \n",
       "25%         0.412572     0.200000     0.615771     0.258260     0.390357   \n",
       "50%         0.436558     0.200000     0.639009     0.260210     0.406914   \n",
       "75%         0.460679     0.300000     0.659622     0.261890     0.423181   \n",
       "max         0.607010     0.500000     0.839937     0.287200     0.532654   \n",
       "\n",
       "            PR_DYN         TNPH  \n",
       "count  1045.000000  1045.000000  \n",
       "mean      0.256835     0.030456  \n",
       "std       0.023556     0.023268  \n",
       "min       0.156378     0.006600  \n",
       "25%       0.242309     0.016200  \n",
       "50%       0.255178     0.021900  \n",
       "75%       0.270588     0.035300  \n",
       "max       0.346385     0.197900  "
      ]
     },
     "execution_count": 5,
     "metadata": {},
     "output_type": "execute_result"
    }
   ],
   "source": [
    "df1.describe()"
   ]
  },
  {
   "cell_type": "code",
   "execution_count": 3,
   "metadata": {},
   "outputs": [],
   "source": [
    "import matplotlib as mpl\n",
    "import matplotlib.pyplot as plt\n",
    "import matplotlib.pylab as pylab\n",
    "import seaborn as sns\n",
    "# Configure visualisations\n",
    "%matplotlib inline\n",
    "mpl.style.use( 'ggplot' )\n",
    "sns.set_style( 'white' )\n",
    "pylab.rcParams[ 'figure.figsize' ] = 8 , 6"
   ]
  },
  {
   "cell_type": "code",
   "execution_count": 4,
   "metadata": {},
   "outputs": [],
   "source": [
    "def plot_histograms( df , variables , n_rows , n_cols ):\n",
    "    fig = plt.figure( figsize = ( 16 , 12 ) )\n",
    "    for i, var_name in enumerate( variables ):\n",
    "        ax=fig.add_subplot( n_rows , n_cols , i+1 )\n",
    "        df[ var_name ].hist( bins=10 , ax=ax )\n",
    "        ax.set_title( 'Skew: ' + str( round( float( df[ var_name ].skew() ) , ) ) ) # + ' ' + var_name ) #var_name+\" Distribution\")\n",
    "        ax.set_xticklabels( [] , visible=False )\n",
    "        ax.set_yticklabels( [] , visible=False )\n",
    "        fig.tight_layout() # Improves appearance a bit.\n",
    "    plt.show()\n",
    "def plot_distribution( df , var , target , **kwargs ):\n",
    "    row = kwargs.get( 'row' , None )\n",
    "    col = kwargs.get( 'col' , None )\n",
    "    facet = sns.FacetGrid( df , hue=target , aspect=4 , row = row , col = col )\n",
    "    facet.map( sns.kdeplot , var , shade= True )\n",
    "    facet.set( xlim=( 0 , df[ var ].max() ) )\n",
    "    facet.add_legend()\n",
    "def plot_categories( df , cat , target , **kwargs ):\n",
    "    row = kwargs.get( 'row' , None )\n",
    "    col = kwargs.get( 'col' , None )\n",
    "    facet = sns.FacetGrid( df , row = row , col = col )\n",
    "    facet.map( sns.barplot , cat , target )\n",
    "    facet.add_legend()\n",
    "def plot_correlation_map( df ):\n",
    "    corr = df1.corr()\n",
    "    _ , ax = plt.subplots( figsize =( 12 , 10 ) )\n",
    "    cmap = sns.diverging_palette( 220 , 10 , as_cmap = True )\n",
    "    _= sns.heatmap(\n",
    "    corr,\n",
    "    cmap = cmap,\n",
    "    square=True,\n",
    "    cbar_kws={ 'shrink' : .9 },\n",
    "    ax=ax,\n",
    "    annot = True,\n",
    "    annot_kws = { 'fontsize' : 12 }\n",
    "    )\n",
    "def describe_more( df ):\n",
    "    var = [] ; l = [] ; t = []\n",
    "    for x in df:\n",
    "        var.append( x )\n",
    "        l.append( len( pd.value_counts( df[ x ] ) ) )\n",
    "        t.append( df[ x ].dtypes )\n",
    "    levels = pd.DataFrame( { 'Variable' : var , 'Levels' : l , 'Datatype' : t } )\n",
    "    levels.sort_values( by = 'Levels' , inplace = True )\n",
    "    return levels\n",
    "def plot_variable_importance( X , y ):\n",
    "    tree = DecisionTreeClassifier( random_state = 99 )\n",
    "    tree.fit( X , y )\n",
    "    plot_model_var_imp( tree , X , y )\n",
    "def plot_model_var_imp( model , X , y ):\n",
    "    imp = pd.DataFrame(\n",
    "    model.feature_importances_ ,\n",
    "    columns = [ 'Importance' ] ,\n",
    "    index = X.columns\n",
    "    )\n",
    "    imp = imp.sort_values( [ 'Importance' ] , ascending = True )\n",
    "    imp[ : 10 ].plot( kind = 'barh' )\n",
    "    print (model.score( X , y ))"
   ]
  },
  {
   "cell_type": "code",
   "execution_count": 68,
   "metadata": {},
   "outputs": [
    {
     "data": {
      "text/plain": [
       "<bound method NDFrame.head of       Shmax_norm\n",
       "0       0.509101\n",
       "1       0.513514\n",
       "2       0.521931\n",
       "3       0.522483\n",
       "4       0.525030\n",
       "...          ...\n",
       "1040    0.555273\n",
       "1041    0.575751\n",
       "1042    0.576168\n",
       "1043    0.581397\n",
       "1044    0.598482\n",
       "\n",
       "[1045 rows x 1 columns]>"
      ]
     },
     "execution_count": 68,
     "metadata": {},
     "output_type": "execute_result"
    }
   ],
   "source": [
    "df2.head"
   ]
  },
  {
   "cell_type": "code",
   "execution_count": 62,
   "metadata": {},
   "outputs": [],
   "source": [
    "Y_train = (df2.iloc[:,0].values.astype('float32'))\n",
    "X_train = (df1.iloc[:,0].values.astype('float32'))"
   ]
  },
  {
   "cell_type": "code",
   "execution_count": 58,
   "metadata": {},
   "outputs": [
    {
     "data": {
      "text/plain": [
       "array([0.5091006 , 0.513514  , 0.5219307 , ..., 0.57616806, 0.5813971 ,\n",
       "       0.59848166], dtype=float32)"
      ]
     },
     "execution_count": 58,
     "metadata": {},
     "output_type": "execute_result"
    }
   ],
   "source": [
    "Y_train"
   ]
  },
  {
   "cell_type": "code",
   "execution_count": 5,
   "metadata": {},
   "outputs": [],
   "source": [
    "df = df1.append(df2, sort=False)"
   ]
  },
  {
   "cell_type": "code",
   "execution_count": 6,
   "metadata": {},
   "outputs": [
    {
     "data": {
      "image/png": "[encoded data removed]",
      "text/plain": [
       "<Figure size 864x720 with 2 Axes>"
      ]
     },
     "metadata": {},
     "output_type": "display_data"
    }
   ],
   "source": [
    "plot_correlation_map(df)"
   ]
  },
  {
   "cell_type": "code",
   "execution_count": 22,
   "metadata": {},
   "outputs": [],
   "source": [
    "X_train, X_test, y_train, y_test = train_test_split(df1, df2, test_size=0.40, random_state=1)\n",
    "X_train, X_val, y_train, y_val = train_test_split(X_train, y_train, test_size=0.10, random_state=1)"
   ]
  },
  {
   "cell_type": "code",
   "execution_count": 10,
   "metadata": {},
   "outputs": [
    {
     "data": {
      "text/html": [
       "<div>\n",
       "<style scoped>\n",
       "    .dataframe tbody tr th:only-of-type {\n",
       "        vertical-align: middle;\n",
       "    }\n",
       "\n",
       "    .dataframe tbody tr th {\n",
       "        vertical-align: top;\n",
       "    }\n",
       "\n",
       "    .dataframe thead th {\n",
       "        text-align: right;\n",
       "    }\n",
       "</style>\n",
       "<table border=\"1\" class=\"dataframe\">\n",
       "  <thead>\n",
       "    <tr style=\"text-align: right;\">\n",
       "      <th></th>\n",
       "      <th>Shmax_norm</th>\n",
       "    </tr>\n",
       "  </thead>\n",
       "  <tbody>\n",
       "    <tr>\n",
       "      <td>824</td>\n",
       "      <td>0.569700</td>\n",
       "    </tr>\n",
       "    <tr>\n",
       "      <td>106</td>\n",
       "      <td>0.509843</td>\n",
       "    </tr>\n",
       "    <tr>\n",
       "      <td>39</td>\n",
       "      <td>0.508072</td>\n",
       "    </tr>\n",
       "    <tr>\n",
       "      <td>222</td>\n",
       "      <td>0.510661</td>\n",
       "    </tr>\n",
       "    <tr>\n",
       "      <td>483</td>\n",
       "      <td>0.516669</td>\n",
       "    </tr>\n",
       "    <tr>\n",
       "      <td>...</td>\n",
       "      <td>...</td>\n",
       "    </tr>\n",
       "    <tr>\n",
       "      <td>622</td>\n",
       "      <td>0.552756</td>\n",
       "    </tr>\n",
       "    <tr>\n",
       "      <td>330</td>\n",
       "      <td>0.549298</td>\n",
       "    </tr>\n",
       "    <tr>\n",
       "      <td>409</td>\n",
       "      <td>0.523111</td>\n",
       "    </tr>\n",
       "    <tr>\n",
       "      <td>883</td>\n",
       "      <td>0.531556</td>\n",
       "    </tr>\n",
       "    <tr>\n",
       "      <td>1013</td>\n",
       "      <td>0.540206</td>\n",
       "    </tr>\n",
       "  </tbody>\n",
       "</table>\n",
       "<p>564 rows × 1 columns</p>\n",
       "</div>"
      ],
      "text/plain": [
       "      Shmax_norm\n",
       "824     0.569700\n",
       "106     0.509843\n",
       "39      0.508072\n",
       "222     0.510661\n",
       "483     0.516669\n",
       "...          ...\n",
       "622     0.552756\n",
       "330     0.549298\n",
       "409     0.523111\n",
       "883     0.531556\n",
       "1013    0.540206\n",
       "\n",
       "[564 rows x 1 columns]"
      ]
     },
     "execution_count": 10,
     "metadata": {},
     "output_type": "execute_result"
    }
   ],
   "source": [
    "y_train"
   ]
  },
  {
   "cell_type": "code",
   "execution_count": null,
   "metadata": {},
   "outputs": [],
   "source": []
  },
  {
   "cell_type": "code",
   "execution_count": 36,
   "metadata": {
    "scrolled": true
   },
   "outputs": [
    {
     "name": "stdout",
     "output_type": "stream",
     "text": [
      "Train on 564 samples, validate on 63 samples\n",
      "Epoch 1/7\n",
      "564/564 [==============================] - 1s 2ms/step - loss: 0.2296 - mean_squared_error: 0.2296 - val_loss: 0.2323 - val_mean_squared_error: 0.2323\n",
      "Epoch 2/7\n",
      "564/564 [==============================] - 0s 207us/step - loss: 0.2295 - mean_squared_error: 0.2295 - val_loss: 0.2323 - val_mean_squared_error: 0.2323\n",
      "Epoch 3/7\n",
      "564/564 [==============================] - 0s 225us/step - loss: 0.2295 - mean_squared_error: 0.2295 - val_loss: 0.2322 - val_mean_squared_error: 0.2322\n",
      "Epoch 4/7\n",
      "564/564 [==============================] - 0s 195us/step - loss: 0.2295 - mean_squared_error: 0.2295 - val_loss: 0.2322 - val_mean_squared_error: 0.2322\n",
      "Epoch 5/7\n",
      "564/564 [==============================] - 0s 149us/step - loss: 0.2294 - mean_squared_error: 0.2294 - val_loss: 0.2322 - val_mean_squared_error: 0.2322\n",
      "Epoch 6/7\n",
      "564/564 [==============================] - 0s 268us/step - loss: 0.2294 - mean_squared_error: 0.2294 - val_loss: 0.2321 - val_mean_squared_error: 0.2321\n",
      "Epoch 7/7\n",
      "564/564 [==============================] - 0s 260us/step - loss: 0.2293 - mean_squared_error: 0.2293 - val_loss: 0.2321 - val_mean_squared_error: 0.2321\n",
      "_________________________________________________________________\n",
      "Layer (type)                 Output Shape              Param #   \n",
      "=================================================================\n",
      "dense_25 (Dense)             (None, 64)                512       \n",
      "_________________________________________________________________\n",
      "dense_26 (Dense)             (None, 64)                4160      \n",
      "_________________________________________________________________\n",
      "dense_27 (Dense)             (None, 1)                 65        \n",
      "=================================================================\n",
      "Total params: 4,737\n",
      "Trainable params: 4,737\n",
      "Non-trainable params: 0\n",
      "_________________________________________________________________\n",
      "None\n",
      "[0.2295778323995306, 0.22953928785121186, 0.22950067513800682, 0.22946194226437427, 0.22942331750342188, 0.22938467615039637, 0.22934604441443235, 0.2295778323995306, 0.22953928785121186, 0.22950067513800682, 0.22946194226437427, 0.22942331750342188, 0.22938467615039637, 0.22934604441443235, 0.2295778323995306, 0.22953928785121186, 0.22950067513800682, 0.22946194226437427, 0.22942331750342188, 0.22938467615039637, 0.22934604441443235, 0.2295778323995306, 0.22953928785121186, 0.22950067513800682, 0.22946194226437427, 0.22942331750342188, 0.22938467615039637, 0.22934604441443235, 0.2295778323995306, 0.22953928785121186, 0.22950067513800682, 0.22946194226437427, 0.22942331750342188, 0.22938467615039637, 0.22934604441443235, 0.2295778323995306, 0.22953928785121186, 0.22950067513800682, 0.22946194226437427, 0.22942331750342188, 0.22938467615039637, 0.22934604441443235, 0.2295778323995306, 0.22953928785121186, 0.22950067513800682, 0.22946194226437427, 0.22942331750342188, 0.22938467615039637, 0.22934604441443235, 0.2295778323995306, 0.22953928785121186, 0.22950067513800682, 0.22946194226437427, 0.22942331750342188, 0.22938467615039637, 0.22934604441443235, 0.2295778323995306, 0.22953928785121186, 0.22950067513800682, 0.22946194226437427, 0.22942331750342188, 0.22938467615039637, 0.22934604441443235, 0.2295778323995306, 0.22953928785121186, 0.22950067513800682, 0.22946194226437427, 0.22942331750342188, 0.22938467615039637, 0.22934604441443235, 0.2295778323995306, 0.22953928785121186, 0.22950067513800682, 0.22946194226437427, 0.22942331750342188, 0.22938467615039637, 0.22934604441443235, 0.2295778323995306, 0.22953928785121186, 0.22950067513800682, 0.22946194226437427, 0.22942331750342188, 0.22938467615039637, 0.22934604441443235, 0.2295778323995306, 0.22953928785121186, 0.22950067513800682, 0.22946194226437427, 0.22942331750342188, 0.22938467615039637, 0.22934604441443235, 0.2295778323995306, 0.22953928785121186, 0.22950067513800682, 0.22946194226437427, 0.22942331750342188, 0.22938467615039637, 0.22934604441443235, 0.2295778323995306, 0.22953928785121186, 0.22950067513800682, 0.22946194226437427, 0.22942331750342188, 0.22938467615039637, 0.22934604441443235, 0.2295778323995306, 0.22953928785121186, 0.22950067513800682, 0.22946194226437427, 0.22942331750342188, 0.22938467615039637, 0.22934604441443235, 0.2295778323995306, 0.22953928785121186, 0.22950067513800682, 0.22946194226437427, 0.22942331750342188, 0.22938467615039637, 0.22934604441443235, 0.2295778323995306, 0.22953928785121186, 0.22950067513800682, 0.22946194226437427, 0.22942331750342188, 0.22938467615039637, 0.22934604441443235, 0.2295778323995306, 0.22953928785121186, 0.22950067513800682, 0.22946194226437427, 0.22942331750342188, 0.22938467615039637, 0.22934604441443235, 0.2295778323995306, 0.22953928785121186, 0.22950067513800682, 0.22946194226437427, 0.22942331750342188, 0.22938467615039637, 0.22934604441443235, 0.2295778323995306, 0.22953928785121186, 0.22950067513800682, 0.22946194226437427, 0.22942331750342188, 0.22938467615039637, 0.22934604441443235, 0.2295778323995306, 0.22953928785121186, 0.22950067513800682, 0.22946194226437427, 0.22942331750342188, 0.22938467615039637, 0.22934604441443235, 0.2295778323995306, 0.22953928785121186, 0.22950067513800682, 0.22946194226437427, 0.22942331750342188, 0.22938467615039637, 0.22934604441443235, 0.2295778323995306, 0.22953928785121186, 0.22950067513800682, 0.22946194226437427, 0.22942331750342188, 0.22938467615039637, 0.22934604441443235, 0.2295778323995306, 0.22953928785121186, 0.22950067513800682, 0.22946194226437427, 0.22942331750342188, 0.22938467615039637, 0.22934604441443235, 0.2295778323995306, 0.22953928785121186, 0.22950067513800682, 0.22946194226437427, 0.22942331750342188, 0.22938467615039637, 0.22934604441443235, 0.2295778323995306, 0.22953928785121186, 0.22950067513800682, 0.22946194226437427, 0.22942331750342188, 0.22938467615039637, 0.22934604441443235, 0.2295778323995306, 0.22953928785121186, 0.22950067513800682, 0.22946194226437427, 0.22942331750342188, 0.22938467615039637, 0.22934604441443235, 0.2295778323995306, 0.22953928785121186, 0.22950067513800682, 0.22946194226437427, 0.22942331750342188, 0.22938467615039637, 0.22934604441443235, 0.2295778323995306, 0.22953928785121186, 0.22950067513800682, 0.22946194226437427, 0.22942331750342188, 0.22938467615039637, 0.22934604441443235, 0.2295778323995306, 0.22953928785121186, 0.22950067513800682, 0.22946194226437427, 0.22942331750342188, 0.22938467615039637, 0.22934604441443235, 0.2295778323995306, 0.22953928785121186, 0.22950067513800682, 0.22946194226437427, 0.22942331750342188, 0.22938467615039637, 0.22934604441443235, 0.2295778323995306, 0.22953928785121186, 0.22950067513800682, 0.22946194226437427, 0.22942331750342188, 0.22938467615039637, 0.22934604441443235, 0.2295778323995306, 0.22953928785121186, 0.22950067513800682, 0.22946194226437427, 0.22942331750342188, 0.22938467615039637, 0.22934604441443235, 0.2295778323995306, 0.22953928785121186, 0.22950067513800682, 0.22946194226437427, 0.22942331750342188, 0.22938467615039637, 0.22934604441443235, 0.2295778323995306, 0.22953928785121186, 0.22950067513800682, 0.22946194226437427, 0.22942331750342188, 0.22938467615039637, 0.22934604441443235, 0.2295778323995306, 0.22953928785121186, 0.22950067513800682, 0.22946194226437427, 0.22942331750342188, 0.22938467615039637, 0.22934604441443235, 0.2295778323995306, 0.22953928785121186, 0.22950067513800682, 0.22946194226437427, 0.22942331750342188, 0.22938467615039637, 0.22934604441443235, 0.2295778323995306, 0.22953928785121186, 0.22950067513800682, 0.22946194226437427, 0.22942331750342188, 0.22938467615039637, 0.22934604441443235, 0.2295778323995306, 0.22953928785121186, 0.22950067513800682, 0.22946194226437427, 0.22942331750342188, 0.22938467615039637, 0.22934604441443235, 0.2295778323995306, 0.22953928785121186, 0.22950067513800682, 0.22946194226437427, 0.22942331750342188, 0.22938467615039637, 0.22934604441443235, 0.2295778323995306, 0.22953928785121186, 0.22950067513800682, 0.22946194226437427, 0.22942331750342188, 0.22938467615039637, 0.22934604441443235, 0.2295778323995306, 0.22953928785121186, 0.22950067513800682, 0.22946194226437427, 0.22942331750342188, 0.22938467615039637, 0.22934604441443235, 0.2295778323995306, 0.22953928785121186, 0.22950067513800682, 0.22946194226437427, 0.22942331750342188, 0.22938467615039637, 0.22934604441443235, 0.2295778323995306, 0.22953928785121186, 0.22950067513800682, 0.22946194226437427, 0.22942331750342188, 0.22938467615039637, 0.22934604441443235, 0.2295778323995306, 0.22953928785121186, 0.22950067513800682, 0.22946194226437427, 0.22942331750342188, 0.22938467615039637, 0.22934604441443235, 0.2295778323995306, 0.22953928785121186, 0.22950067513800682, 0.22946194226437427, 0.22942331750342188, 0.22938467615039637, 0.22934604441443235, 0.2295778323995306, 0.22953928785121186, 0.22950067513800682, 0.22946194226437427, 0.22942331750342188, 0.22938467615039637, 0.22934604441443235, 0.2295778323995306, 0.22953928785121186, 0.22950067513800682, 0.22946194226437427, 0.22942331750342188, 0.22938467615039637, 0.22934604441443235, 0.2295778323995306, 0.22953928785121186, 0.22950067513800682, 0.22946194226437427, 0.22942331750342188, 0.22938467615039637, 0.22934604441443235, 0.2295778323995306, 0.22953928785121186, 0.22950067513800682, 0.22946194226437427, 0.22942331750342188, 0.22938467615039637, 0.22934604441443235, 0.2295778323995306, 0.22953928785121186, 0.22950067513800682, 0.22946194226437427, 0.22942331750342188, 0.22938467615039637, 0.22934604441443235, 0.2295778323995306, 0.22953928785121186, 0.22950067513800682, 0.22946194226437427, 0.22942331750342188, 0.22938467615039637, 0.22934604441443235, 0.2295778323995306, 0.22953928785121186, 0.22950067513800682, 0.22946194226437427, 0.22942331750342188, 0.22938467615039637, 0.22934604441443235, 0.2295778323995306, 0.22953928785121186, 0.22950067513800682, 0.22946194226437427, 0.22942331750342188, 0.22938467615039637, 0.22934604441443235, 0.2295778323995306, 0.22953928785121186, 0.22950067513800682, 0.22946194226437427, 0.22942331750342188, 0.22938467615039637, 0.22934604441443235, 0.2295778323995306, 0.22953928785121186, 0.22950067513800682, 0.22946194226437427, 0.22942331750342188, 0.22938467615039637, 0.22934604441443235, 0.2295778323995306, 0.22953928785121186, 0.22950067513800682, 0.22946194226437427, 0.22942331750342188, 0.22938467615039637, 0.22934604441443235, 0.2295778323995306, 0.22953928785121186, 0.22950067513800682, 0.22946194226437427, 0.22942331750342188, 0.22938467615039637, 0.22934604441443235, 0.2295778323995306, 0.22953928785121186, 0.22950067513800682, 0.22946194226437427, 0.22942331750342188, 0.22938467615039637, 0.22934604441443235, 0.2295778323995306, 0.22953928785121186, 0.22950067513800682, 0.22946194226437427, 0.22942331750342188, 0.22938467615039637, 0.22934604441443235, 0.2295778323995306, 0.22953928785121186, 0.22950067513800682, 0.22946194226437427, 0.22942331750342188, 0.22938467615039637, 0.22934604441443235, 0.2295778323995306, 0.22953928785121186, 0.22950067513800682, 0.22946194226437427, 0.22942331750342188, 0.22938467615039637, 0.22934604441443235, 0.2295778323995306, 0.22953928785121186, 0.22950067513800682, 0.22946194226437427, 0.22942331750342188, 0.22938467615039637, 0.22934604441443235, 0.2295778323995306, 0.22953928785121186, 0.22950067513800682, 0.22946194226437427, 0.22942331750342188, 0.22938467615039637, 0.22934604441443235, 0.2295778323995306, 0.22953928785121186, 0.22950067513800682, 0.22946194226437427, 0.22942331750342188, 0.22938467615039637, 0.22934604441443235, 0.2295778323995306, 0.22953928785121186, 0.22950067513800682, 0.22946194226437427, 0.22942331750342188, 0.22938467615039637, 0.22934604441443235, 0.2295778323995306, 0.22953928785121186, 0.22950067513800682, 0.22946194226437427, 0.22942331750342188, 0.22938467615039637, 0.22934604441443235, 0.2295778323995306, 0.22953928785121186, 0.22950067513800682, 0.22946194226437427, 0.22942331750342188, 0.22938467615039637, 0.22934604441443235, 0.2295778323995306, 0.22953928785121186, 0.22950067513800682, 0.22946194226437427, 0.22942331750342188, 0.22938467615039637, 0.22934604441443235, 0.2295778323995306, 0.22953928785121186, 0.22950067513800682, 0.22946194226437427, 0.22942331750342188, 0.22938467615039637, 0.22934604441443235, 0.2295778323995306, 0.22953928785121186, 0.22950067513800682, 0.22946194226437427, 0.22942331750342188, 0.22938467615039637, 0.22934604441443235, 0.2295778323995306, 0.22953928785121186, 0.22950067513800682, 0.22946194226437427, 0.22942331750342188, 0.22938467615039637, 0.22934604441443235, 0.2295778323995306, 0.22953928785121186, 0.22950067513800682, 0.22946194226437427, 0.22942331750342188, 0.22938467615039637, 0.22934604441443235, 0.2295778323995306, 0.22953928785121186, 0.22950067513800682, 0.22946194226437427, 0.22942331750342188, 0.22938467615039637, 0.22934604441443235, 0.2295778323995306, 0.22953928785121186, 0.22950067513800682, 0.22946194226437427, 0.22942331750342188, 0.22938467615039637, 0.22934604441443235, 0.2295778323995306, 0.22953928785121186, 0.22950067513800682, 0.22946194226437427, 0.22942331750342188, 0.22938467615039637, 0.22934604441443235, 0.2295778323995306, 0.22953928785121186, 0.22950067513800682, 0.22946194226437427, 0.22942331750342188, 0.22938467615039637, 0.22934604441443235, 0.2295778323995306, 0.22953928785121186, 0.22950067513800682, 0.22946194226437427, 0.22942331750342188, 0.22938467615039637, 0.22934604441443235, 0.2295778323995306, 0.22953928785121186, 0.22950067513800682, 0.22946194226437427, 0.22942331750342188, 0.22938467615039637, 0.22934604441443235, 0.2295778323995306, 0.22953928785121186, 0.22950067513800682, 0.22946194226437427, 0.22942331750342188, 0.22938467615039637, 0.22934604441443235, 0.2295778323995306, 0.22953928785121186, 0.22950067513800682, 0.22946194226437427, 0.22942331750342188, 0.22938467615039637, 0.22934604441443235, 0.2295778323995306, 0.22953928785121186, 0.22950067513800682, 0.22946194226437427, 0.22942331750342188, 0.22938467615039637, 0.22934604441443235, 0.2295778323995306, 0.22953928785121186, 0.22950067513800682, 0.22946194226437427, 0.22942331750342188, 0.22938467615039637, 0.22934604441443235, 0.2295778323995306, 0.22953928785121186, 0.22950067513800682, 0.22946194226437427, 0.22942331750342188, 0.22938467615039637, 0.22934604441443235, 0.2295778323995306, 0.22953928785121186, 0.22950067513800682, 0.22946194226437427, 0.22942331750342188, 0.22938467615039637, 0.22934604441443235, 0.2295778323995306, 0.22953928785121186, 0.22950067513800682, 0.22946194226437427, 0.22942331750342188, 0.22938467615039637, 0.22934604441443235, 0.2295778323995306, 0.22953928785121186, 0.22950067513800682, 0.22946194226437427, 0.22942331750342188, 0.22938467615039637, 0.22934604441443235, 0.2295778323995306, 0.22953928785121186, 0.22950067513800682, 0.22946194226437427, 0.22942331750342188, 0.22938467615039637, 0.22934604441443235, 0.2295778323995306, 0.22953928785121186, 0.22950067513800682, 0.22946194226437427, 0.22942331750342188, 0.22938467615039637, 0.22934604441443235, 0.2295778323995306, 0.22953928785121186, 0.22950067513800682, 0.22946194226437427, 0.22942331750342188, 0.22938467615039637, 0.22934604441443235, 0.2295778323995306, 0.22953928785121186, 0.22950067513800682, 0.22946194226437427, 0.22942331750342188, 0.22938467615039637, 0.22934604441443235, 0.2295778323995306, 0.22953928785121186, 0.22950067513800682, 0.22946194226437427, 0.22942331750342188, 0.22938467615039637, 0.22934604441443235, 0.2295778323995306, 0.22953928785121186, 0.22950067513800682, 0.22946194226437427, 0.22942331750342188, 0.22938467615039637, 0.22934604441443235, 0.2295778323995306, 0.22953928785121186, 0.22950067513800682, 0.22946194226437427, 0.22942331750342188, 0.22938467615039637, 0.22934604441443235, 0.2295778323995306, 0.22953928785121186, 0.22950067513800682, 0.22946194226437427, 0.22942331750342188, 0.22938467615039637, 0.22934604441443235, 0.2295778323995306, 0.22953928785121186, 0.22950067513800682, 0.22946194226437427, 0.22942331750342188, 0.22938467615039637, 0.22934604441443235, 0.2295778323995306, 0.22953928785121186, 0.22950067513800682, 0.22946194226437427, 0.22942331750342188, 0.22938467615039637, 0.22934604441443235, 0.2295778323995306, 0.22953928785121186, 0.22950067513800682, 0.22946194226437427, 0.22942331750342188, 0.22938467615039637, 0.22934604441443235, 0.2295778323995306, 0.22953928785121186, 0.22950067513800682, 0.22946194226437427, 0.22942331750342188, 0.22938467615039637, 0.22934604441443235]\n"
     ]
    },
    {
     "data": {
      "image/png": "[encoded data removed]",
      "text/plain": [
       "<Figure size 432x288 with 1 Axes>"
      ]
     },
     "metadata": {
      "needs_background": "light"
     },
     "output_type": "display_data"
    }
   ],
   "source": [
    "model = Sequential()\n",
    "model.add(Dense(64, activation = 'sigmoid', input_shape=(7,)))\n",
    "#model.add(Dropout(0.2))\n",
    "model.add(Dense(64, activation='relu'))\n",
    "#model.add(Dropout(0.2))\n",
    "#model.add(Dense(64, activation='relu'))\n",
    "#model.add(Dropout(0.2))\n",
    "#model.add(Dense(64, activation='relu'))\n",
    "model.add(Dense(1, activation ='relu'))\n",
    "\n",
    "from keras.optimizers import RMSprop\n",
    "model.compile(optimizer=Adam(lr=0.00000001),\n",
    "             loss= 'mse',\n",
    "             metrics=['mean_squared_error'])\n",
    "#model.compile(optimizer='Adam', loss='mse', metrics=['mean_squared_error'])\n",
    "\n",
    "history = model.fit(X_train, y_train, epochs = 7, validation_data =(X_val, y_val))\n",
    "\n",
    "history_dict = history.history\n",
    "\n",
    "print(model.summary())\n",
    "\n",
    "_loss = history_dict['loss']*100\n",
    "print(_loss)\n",
    "loss_values = history_dict['loss']\n",
    "val_loss_values = history_dict['val_loss']\n",
    "plt.figure()\n",
    "plt.plot(loss_values,'b', label='training loss')\n",
    "plt.plot(val_loss_values, 'r', label='val training loss')\n",
    "\n",
    "\n",
    "import matplotlib.pyplot as plt\n",
    "%matplotlib inline\n",
    "loss_values = history_dict['loss']\n",
    "val_loss_values = history_dict['val_loss']\n",
    "epochs = range(1, len(loss_values) + 1)\n",
    "\n",
    "plt.plot(epochs, loss_values, 'ro')\n",
    "plt.plot(epochs, val_loss_values, 'r+')\n",
    "plt.xlabel('Epochs')\n",
    "plt.ylabel('Loss')\n",
    "\n",
    "plt.show()"
   ]
  },
  {
   "cell_type": "code",
   "execution_count": 86,
   "metadata": {},
   "outputs": [],
   "source": [
    "from sklearn.linear_model import LogisticRegression\n",
    "from sklearn.svm import SVC, LinearSVC\n",
    "from sklearn.ensemble import RandomForestClassifier\n",
    "from sklearn.neighbors import KNeighborsClassifier\n",
    "from sklearn.naive_bayes import GaussianNB\n",
    "from sklearn.linear_model import Perceptron\n",
    "from sklearn.linear_model import SGDClassifier\n",
    "from sklearn.tree import DecisionTreeClassifier"
   ]
  },
  {
   "cell_type": "code",
   "execution_count": 87,
   "metadata": {},
   "outputs": [
    {
     "name": "stderr",
     "output_type": "stream",
     "text": [
      "C:\\Users\\HP\\Anaconda3\\envs\\tf\\Lib\\site-packages\\ipykernel_launcher.py:4: DataConversionWarning: A column-vector y was passed when a 1d array was expected. Please change the shape of y to (n_samples, ), for example using ravel().\n",
      "  after removing the cwd from sys.path.\n"
     ]
    },
    {
     "ename": "ValueError",
     "evalue": "Unknown label type: 'continuous'",
     "output_type": "error",
     "traceback": [
      "\u001b[1;31m---------------------------------------------------------------------------\u001b[0m",
      "\u001b[1;31mValueError\u001b[0m                                Traceback (most recent call last)",
      "\u001b[1;32m<ipython-input-87-d5c77ac0ffb0>\u001b[0m in \u001b[0;36m<module>\u001b[1;34m\u001b[0m\n\u001b[0;32m      2\u001b[0m \u001b[1;32mfrom\u001b[0m \u001b[0msklearn\u001b[0m\u001b[1;33m.\u001b[0m\u001b[0mneighbors\u001b[0m \u001b[1;32mimport\u001b[0m \u001b[0mKNeighborsClassifier\u001b[0m\u001b[1;33m\u001b[0m\u001b[1;33m\u001b[0m\u001b[0m\n\u001b[0;32m      3\u001b[0m \u001b[0msgd\u001b[0m \u001b[1;33m=\u001b[0m \u001b[0mKNeighborsClassifier\u001b[0m\u001b[1;33m(\u001b[0m\u001b[1;33m)\u001b[0m\u001b[1;33m\u001b[0m\u001b[1;33m\u001b[0m\u001b[0m\n\u001b[1;32m----> 4\u001b[1;33m \u001b[0msgd\u001b[0m\u001b[1;33m.\u001b[0m\u001b[0mfit\u001b[0m\u001b[1;33m(\u001b[0m\u001b[0mX_train\u001b[0m\u001b[1;33m,\u001b[0m \u001b[0my_train\u001b[0m\u001b[1;33m)\u001b[0m\u001b[1;33m\u001b[0m\u001b[1;33m\u001b[0m\u001b[0m\n\u001b[0m\u001b[0;32m      5\u001b[0m \u001b[0mY_pred\u001b[0m \u001b[1;33m=\u001b[0m \u001b[0msgd\u001b[0m\u001b[1;33m.\u001b[0m\u001b[0mpredict\u001b[0m\u001b[1;33m(\u001b[0m\u001b[0mX_val\u001b[0m\u001b[1;33m)\u001b[0m\u001b[1;33m\u001b[0m\u001b[1;33m\u001b[0m\u001b[0m\n\u001b[0;32m      6\u001b[0m \u001b[0macc_sgd\u001b[0m \u001b[1;33m=\u001b[0m \u001b[0mround\u001b[0m\u001b[1;33m(\u001b[0m\u001b[0msgd\u001b[0m\u001b[1;33m.\u001b[0m\u001b[0mscore\u001b[0m\u001b[1;33m(\u001b[0m\u001b[0mX_train\u001b[0m\u001b[1;33m,\u001b[0m \u001b[0my_train\u001b[0m\u001b[1;33m)\u001b[0m \u001b[1;33m*\u001b[0m \u001b[1;36m100\u001b[0m\u001b[1;33m,\u001b[0m \u001b[1;36m2\u001b[0m\u001b[1;33m)\u001b[0m\u001b[1;33m\u001b[0m\u001b[1;33m\u001b[0m\u001b[0m\n",
      "\u001b[1;32m~\\Anaconda3\\envs\\tf\\Lib\\site-packages\\sklearn\\neighbors\\base.py\u001b[0m in \u001b[0;36mfit\u001b[1;34m(self, X, y)\u001b[0m\n\u001b[0;32m    904\u001b[0m             \u001b[0mself\u001b[0m\u001b[1;33m.\u001b[0m\u001b[0moutputs_2d_\u001b[0m \u001b[1;33m=\u001b[0m \u001b[1;32mTrue\u001b[0m\u001b[1;33m\u001b[0m\u001b[1;33m\u001b[0m\u001b[0m\n\u001b[0;32m    905\u001b[0m \u001b[1;33m\u001b[0m\u001b[0m\n\u001b[1;32m--> 906\u001b[1;33m         \u001b[0mcheck_classification_targets\u001b[0m\u001b[1;33m(\u001b[0m\u001b[0my\u001b[0m\u001b[1;33m)\u001b[0m\u001b[1;33m\u001b[0m\u001b[1;33m\u001b[0m\u001b[0m\n\u001b[0m\u001b[0;32m    907\u001b[0m         \u001b[0mself\u001b[0m\u001b[1;33m.\u001b[0m\u001b[0mclasses_\u001b[0m \u001b[1;33m=\u001b[0m \u001b[1;33m[\u001b[0m\u001b[1;33m]\u001b[0m\u001b[1;33m\u001b[0m\u001b[1;33m\u001b[0m\u001b[0m\n\u001b[0;32m    908\u001b[0m         \u001b[0mself\u001b[0m\u001b[1;33m.\u001b[0m\u001b[0m_y\u001b[0m \u001b[1;33m=\u001b[0m \u001b[0mnp\u001b[0m\u001b[1;33m.\u001b[0m\u001b[0mempty\u001b[0m\u001b[1;33m(\u001b[0m\u001b[0my\u001b[0m\u001b[1;33m.\u001b[0m\u001b[0mshape\u001b[0m\u001b[1;33m,\u001b[0m \u001b[0mdtype\u001b[0m\u001b[1;33m=\u001b[0m\u001b[0mnp\u001b[0m\u001b[1;33m.\u001b[0m\u001b[0mint\u001b[0m\u001b[1;33m)\u001b[0m\u001b[1;33m\u001b[0m\u001b[1;33m\u001b[0m\u001b[0m\n",
      "\u001b[1;32m~\\Anaconda3\\envs\\tf\\Lib\\site-packages\\sklearn\\utils\\multiclass.py\u001b[0m in \u001b[0;36mcheck_classification_targets\u001b[1;34m(y)\u001b[0m\n\u001b[0;32m    167\u001b[0m     if y_type not in ['binary', 'multiclass', 'multiclass-multioutput',\n\u001b[0;32m    168\u001b[0m                       'multilabel-indicator', 'multilabel-sequences']:\n\u001b[1;32m--> 169\u001b[1;33m         \u001b[1;32mraise\u001b[0m \u001b[0mValueError\u001b[0m\u001b[1;33m(\u001b[0m\u001b[1;34m\"Unknown label type: %r\"\u001b[0m \u001b[1;33m%\u001b[0m \u001b[0my_type\u001b[0m\u001b[1;33m)\u001b[0m\u001b[1;33m\u001b[0m\u001b[1;33m\u001b[0m\u001b[0m\n\u001b[0m\u001b[0;32m    170\u001b[0m \u001b[1;33m\u001b[0m\u001b[0m\n\u001b[0;32m    171\u001b[0m \u001b[1;33m\u001b[0m\u001b[0m\n",
      "\u001b[1;31mValueError\u001b[0m: Unknown label type: 'continuous'"
     ]
    }
   ],
   "source": [
    "#ytt = column_or_1d(y_train. warn=True)\n",
    "from sklearn.neighbors import KNeighborsClassifier\n",
    "sgd = KNeighborsClassifier()\n",
    "sgd.fit(X_train, y_train)\n",
    "Y_pred = sgd.predict(X_val)\n",
    "acc_sgd = round(sgd.score(X_train, y_train) * 100, 2)\n",
    "acc_sgd"
   ]
  },
  {
   "cell_type": "code",
   "execution_count": 95,
   "metadata": {},
   "outputs": [
    {
     "data": {
      "text/plain": [
       "(418, 7)"
      ]
     },
     "execution_count": 95,
     "metadata": {},
     "output_type": "execute_result"
    }
   ],
   "source": [
    "X_test.shape"
   ]
  },
  {
   "cell_type": "code",
   "execution_count": 1,
   "metadata": {},
   "outputs": [
    {
     "ename": "NameError",
     "evalue": "name 'pd' is not defined",
     "output_type": "error",
     "traceback": [
      "\u001b[1;31m---------------------------------------------------------------------------\u001b[0m",
      "\u001b[1;31mNameError\u001b[0m                                 Traceback (most recent call last)",
      "\u001b[1;32m<ipython-input-1-2f7c869b8ebc>\u001b[0m in \u001b[0;36m<module>\u001b[1;34m\u001b[0m\n\u001b[1;32m----> 1\u001b[1;33m \u001b[0mdf1\u001b[0m \u001b[1;33m=\u001b[0m \u001b[0mpd\u001b[0m\u001b[1;33m.\u001b[0m\u001b[0mread_csv\u001b[0m\u001b[1;33m(\u001b[0m\u001b[1;34m'C:/Users/HP/Documents/Well PR/welldatatrainSHMAX_XX.csv'\u001b[0m\u001b[1;33m)\u001b[0m\u001b[1;33m\u001b[0m\u001b[1;33m\u001b[0m\u001b[0m\n\u001b[0m\u001b[0;32m      2\u001b[0m \u001b[0mdf2\u001b[0m \u001b[1;33m=\u001b[0m \u001b[0mpd\u001b[0m\u001b[1;33m.\u001b[0m\u001b[0mread_csv\u001b[0m\u001b[1;33m(\u001b[0m\u001b[1;34m'C:/Users/HP/Documents/Well PR/welldatatrainSHMAX_Y.csv'\u001b[0m\u001b[1;33m)\u001b[0m\u001b[1;33m\u001b[0m\u001b[1;33m\u001b[0m\u001b[0m\n",
      "\u001b[1;31mNameError\u001b[0m: name 'pd' is not defined"
     ]
    }
   ],
   "source": [
    "df1 = pd.read_csv('C:/Users/HP/Documents/Well PR/welldatatrainSHMAX_XX.csv')\n",
    "df2 = pd.read_csv('C:/Users/HP/Documents/Well PR/welldatatrainSHMAX_Y.csv')"
   ]
  },
  {
   "cell_type": "code",
   "execution_count": 18,
   "metadata": {},
   "outputs": [
    {
     "data": {
      "image/png": "[encoded data removed]",
      "text/plain": [
       "<Figure size 432x288 with 1 Axes>"
      ]
     },
     "metadata": {
      "needs_background": "light"
     },
     "output_type": "display_data"
    }
   ],
   "source": [
    "loss_values = history_dict['loss']\n",
    "val_loss_values = history_dict['val_loss']\n",
    "plt.plot(loss_values,'b', label='training loss')\n",
    "plt.plot(val_loss_values, 'r', label='val training loss')\n",
    "plt.legend()\n",
    "plt.show()"
   ]
  },
  {
   "cell_type": "code",
   "execution_count": 25,
   "metadata": {},
   "outputs": [
    {
     "name": "stdout",
     "output_type": "stream",
     "text": [
      "The R2 score on the train set is:\t-1.304\n",
      "The R2 score on the test set is:\t-1.166\n"
     ]
    }
   ],
   "source": [
    "y_train_pred = model.predict(X_train)\n",
    "y_test_pred = model.predict(X_test)\n",
    "\n",
    "print(\"The R2 score on the train set is:\\t{:0.3f}\".format(r2_score(y_train, y_train_pred)))\n",
    "print(\"The R2 score on the test set is:\\t{:0.3f}\".format(r2_score(y_test, y_test_pred)))"
   ]
  },
  {
   "cell_type": "code",
   "execution_count": 96,
   "metadata": {},
   "outputs": [
    {
     "name": "stdout",
     "output_type": "stream",
     "text": [
      "The R2 score on the train set is:\t-28.326\n",
      "The R2 score on the test set is:\t-30.258\n"
     ]
    }
   ],
   "source": [
    "y_train_pred = model.predict(X_train)\n",
    "y_test_pred = model.predict(X_test)\n",
    "\n",
    "print(\"The R2 score on the train set is:\\t{:0.3f}\".format(r2_score(y_train, y_train_pred)))\n",
    "print(\"The R2 score on the test set is:\\t{:0.3f}\".format(r2_score(y_test, y_test_pred)))"
   ]
  },
  {
   "cell_type": "code",
   "execution_count": null,
   "metadata": {},
   "outputs": [],
   "source": []
  },
  {
   "cell_type": "code",
   "execution_count": 136,
   "metadata": {},
   "outputs": [
    {
     "name": "stdout",
     "output_type": "stream",
     "text": [
      "Collecting pydot\n",
      "  Downloading https://files.pythonhosted.org/packages/33/d1/b1479a770f66d962f545c2101630ce1d5592d90cb4f083d38862e93d16d2/pydot-1.4.1-py2.py3-none-any.whl\n",
      "Requirement already satisfied: pyparsing>=2.1.4 in c:\\users\\hp\\anaconda3\\envs\\tf\\lib\\site-packages (from pydot) (2.4.2)\n",
      "Installing collected packages: pydot\n",
      "Successfully installed pydot-1.4.1\n",
      "Note: you may need to restart the kernel to use updated packages.\n"
     ]
    }
   ],
   "source": [
    "pip install pydot"
   ]
  },
  {
   "cell_type": "code",
   "execution_count": 20,
   "metadata": {},
   "outputs": [
    {
     "data": {
      "text/plain": [
       "[0.0, 0.0]"
      ]
     },
     "execution_count": 20,
     "metadata": {},
     "output_type": "execute_result"
    }
   ],
   "source": [
    "model.evaluate(X_test, y_test_pred, verbose=0)"
   ]
  },
  {
   "cell_type": "code",
   "execution_count": 26,
   "metadata": {},
   "outputs": [
    {
     "data": {
      "text/plain": [
       "[<matplotlib.lines.Line2D at 0x20c26b33948>,\n",
       " <matplotlib.lines.Line2D at 0x20c26b33b08>]"
      ]
     },
     "execution_count": 26,
     "metadata": {},
     "output_type": "execute_result"
    },
    {
     "data": {
      "image/png": "[encoded data removed]",
      "text/plain": [
       "<Figure size 432x288 with 1 Axes>"
      ]
     },
     "metadata": {
      "needs_background": "light"
     },
     "output_type": "display_data"
    }
   ],
   "source": [
    "\n",
    "plt.clf()\n",
    "#plt.plot(y_train,'go', y_train_pred, 'bo', label='Predicted SHmax')\n",
    "plt.plot(y_test, 'go', y_test_pred, 'ro', label='val training loss')"
   ]
  },
  {
   "cell_type": "code",
   "execution_count": 118,
   "metadata": {},
   "outputs": [
    {
     "data": {
      "text/plain": [
       "array([[0.54368335],\n",
       "       [0.5465245 ],\n",
       "       [0.55148953],\n",
       "       [0.54560775],\n",
       "       [0.54468113],\n",
       "       [0.54609996],\n",
       "       [0.5457943 ],\n",
       "       [0.5549622 ],\n",
       "       [0.5459986 ],\n",
       "       [0.545758  ],\n",
       "       [0.55904824],\n",
       "       [0.5468752 ],\n",
       "       [0.5462969 ],\n",
       "       [0.54552203],\n",
       "       [0.55427027],\n",
       "       [0.5458342 ],\n",
       "       [0.5465933 ],\n",
       "       [0.5459956 ],\n",
       "       [0.55370945],\n",
       "       [0.5473221 ],\n",
       "       [0.5518171 ],\n",
       "       [0.54607767],\n",
       "       [0.5430388 ],\n",
       "       [0.551472  ],\n",
       "       [0.5499649 ],\n",
       "       [0.5451043 ],\n",
       "       [0.54573107],\n",
       "       [0.5457216 ],\n",
       "       [0.54759103],\n",
       "       [0.54580545],\n",
       "       [0.54931575],\n",
       "       [0.5471735 ],\n",
       "       [0.550154  ],\n",
       "       [0.5463459 ],\n",
       "       [0.54912204],\n",
       "       [0.5458766 ],\n",
       "       [0.5521752 ],\n",
       "       [0.5452568 ],\n",
       "       [0.5464188 ],\n",
       "       [0.54647446],\n",
       "       [0.5461809 ],\n",
       "       [0.5558366 ],\n",
       "       [0.54464304],\n",
       "       [0.5551583 ],\n",
       "       [0.54719543],\n",
       "       [0.54495996],\n",
       "       [0.55171025],\n",
       "       [0.54830176],\n",
       "       [0.5455801 ],\n",
       "       [0.551622  ],\n",
       "       [0.545995  ],\n",
       "       [0.56471777],\n",
       "       [0.54605377],\n",
       "       [0.5465679 ],\n",
       "       [0.5458944 ],\n",
       "       [0.545598  ],\n",
       "       [0.54721916],\n",
       "       [0.55291355],\n",
       "       [0.5451969 ],\n",
       "       [0.55220443],\n",
       "       [0.54507357],\n",
       "       [0.5465749 ],\n",
       "       [0.5435602 ],\n",
       "       [0.5462412 ],\n",
       "       [0.5517354 ],\n",
       "       [0.54681236],\n",
       "       [0.55387515],\n",
       "       [0.5458511 ],\n",
       "       [0.546655  ],\n",
       "       [0.5518193 ],\n",
       "       [0.55081564],\n",
       "       [0.54593885],\n",
       "       [0.55322355],\n",
       "       [0.5457816 ],\n",
       "       [0.5449659 ],\n",
       "       [0.5462331 ],\n",
       "       [0.54820794],\n",
       "       [0.54472744],\n",
       "       [0.5462299 ],\n",
       "       [0.55116725],\n",
       "       [0.54579765],\n",
       "       [0.54571325],\n",
       "       [0.5467941 ],\n",
       "       [0.5451459 ],\n",
       "       [0.5542008 ],\n",
       "       [0.5433989 ],\n",
       "       [0.5464685 ],\n",
       "       [0.5467724 ],\n",
       "       [0.5440387 ],\n",
       "       [0.5532784 ],\n",
       "       [0.54650205],\n",
       "       [0.5462073 ],\n",
       "       [0.5459291 ],\n",
       "       [0.54553676],\n",
       "       [0.5465554 ],\n",
       "       [0.5454988 ],\n",
       "       [0.54820716],\n",
       "       [0.5456659 ],\n",
       "       [0.5518256 ],\n",
       "       [0.545345  ],\n",
       "       [0.5441842 ],\n",
       "       [0.5464865 ],\n",
       "       [0.5466108 ],\n",
       "       [0.5452418 ],\n",
       "       [0.55126077],\n",
       "       [0.54581916],\n",
       "       [0.551743  ],\n",
       "       [0.5463056 ],\n",
       "       [0.5452923 ],\n",
       "       [0.548011  ],\n",
       "       [0.5447435 ],\n",
       "       [0.5455062 ],\n",
       "       [0.5477015 ],\n",
       "       [0.54577297],\n",
       "       [0.5467734 ],\n",
       "       [0.5450292 ],\n",
       "       [0.5463299 ],\n",
       "       [0.5461503 ],\n",
       "       [0.5444505 ],\n",
       "       [0.5465295 ],\n",
       "       [0.559759  ],\n",
       "       [0.54470783],\n",
       "       [0.5461344 ],\n",
       "       [0.54725146],\n",
       "       [0.54782885],\n",
       "       [0.5434128 ],\n",
       "       [0.5531513 ],\n",
       "       [0.546017  ],\n",
       "       [0.54428816],\n",
       "       [0.54539794],\n",
       "       [0.5467387 ],\n",
       "       [0.5457274 ],\n",
       "       [0.5458606 ],\n",
       "       [0.545566  ],\n",
       "       [0.5507593 ],\n",
       "       [0.54501826],\n",
       "       [0.5453568 ],\n",
       "       [0.54749924],\n",
       "       [0.5459284 ],\n",
       "       [0.5456994 ],\n",
       "       [0.5471665 ],\n",
       "       [0.54809505],\n",
       "       [0.54621655],\n",
       "       [0.54530746],\n",
       "       [0.5457369 ],\n",
       "       [0.5530281 ],\n",
       "       [0.5481099 ],\n",
       "       [0.55482525],\n",
       "       [0.55705386],\n",
       "       [0.553516  ],\n",
       "       [0.5490504 ],\n",
       "       [0.54604226],\n",
       "       [0.5451065 ],\n",
       "       [0.54573953],\n",
       "       [0.5548468 ],\n",
       "       [0.5459841 ],\n",
       "       [0.55309045],\n",
       "       [0.5457584 ],\n",
       "       [0.5463529 ],\n",
       "       [0.54482937],\n",
       "       [0.55669725],\n",
       "       [0.551432  ],\n",
       "       [0.5456164 ],\n",
       "       [0.5463144 ],\n",
       "       [0.5453729 ],\n",
       "       [0.5441029 ],\n",
       "       [0.54882085],\n",
       "       [0.5465511 ],\n",
       "       [0.5457371 ],\n",
       "       [0.5450377 ],\n",
       "       [0.545412  ],\n",
       "       [0.54329306],\n",
       "       [0.54853106],\n",
       "       [0.5470182 ],\n",
       "       [0.5540273 ],\n",
       "       [0.5460799 ],\n",
       "       [0.54801166],\n",
       "       [0.5456877 ],\n",
       "       [0.54582864],\n",
       "       [0.5451433 ],\n",
       "       [0.5463501 ],\n",
       "       [0.5451011 ],\n",
       "       [0.5439246 ],\n",
       "       [0.545045  ],\n",
       "       [0.54631096],\n",
       "       [0.54613006],\n",
       "       [0.5455479 ],\n",
       "       [0.54510796],\n",
       "       [0.54505247],\n",
       "       [0.5462452 ],\n",
       "       [0.5462553 ],\n",
       "       [0.5467469 ],\n",
       "       [0.5558451 ],\n",
       "       [0.5466465 ],\n",
       "       [0.54636985],\n",
       "       [0.54598355],\n",
       "       [0.5462028 ],\n",
       "       [0.5467951 ],\n",
       "       [0.54394287],\n",
       "       [0.54610246],\n",
       "       [0.5557886 ],\n",
       "       [0.5458267 ],\n",
       "       [0.5454584 ],\n",
       "       [0.544933  ],\n",
       "       [0.54557943],\n",
       "       [0.55116177],\n",
       "       [0.5455594 ],\n",
       "       [0.5482261 ],\n",
       "       [0.5468004 ],\n",
       "       [0.54500884],\n",
       "       [0.54515016],\n",
       "       [0.5455658 ],\n",
       "       [0.54486305],\n",
       "       [0.5509791 ],\n",
       "       [0.5446668 ],\n",
       "       [0.5479588 ],\n",
       "       [0.5464074 ],\n",
       "       [0.54531926],\n",
       "       [0.54779553],\n",
       "       [0.54561555],\n",
       "       [0.5458725 ],\n",
       "       [0.5469465 ],\n",
       "       [0.5459925 ],\n",
       "       [0.54662436],\n",
       "       [0.55071604],\n",
       "       [0.5465018 ],\n",
       "       [0.54548866],\n",
       "       [0.5448088 ],\n",
       "       [0.5540069 ],\n",
       "       [0.5451861 ],\n",
       "       [0.54713714],\n",
       "       [0.5451033 ],\n",
       "       [0.5596193 ],\n",
       "       [0.54285425],\n",
       "       [0.5471829 ],\n",
       "       [0.5444103 ],\n",
       "       [0.5432944 ],\n",
       "       [0.54629314],\n",
       "       [0.5467499 ],\n",
       "       [0.54572576],\n",
       "       [0.5462711 ],\n",
       "       [0.54590076],\n",
       "       [0.5459241 ],\n",
       "       [0.5513316 ],\n",
       "       [0.54632837],\n",
       "       [0.565446  ],\n",
       "       [0.5468783 ],\n",
       "       [0.55459183],\n",
       "       [0.54519135],\n",
       "       [0.54595214],\n",
       "       [0.54789174],\n",
       "       [0.55287117],\n",
       "       [0.5577113 ],\n",
       "       [0.5454706 ],\n",
       "       [0.55087894],\n",
       "       [0.5464971 ],\n",
       "       [0.54298246],\n",
       "       [0.56281346],\n",
       "       [0.54532796],\n",
       "       [0.5464288 ],\n",
       "       [0.5467609 ],\n",
       "       [0.55197304],\n",
       "       [0.55273294],\n",
       "       [0.55133915],\n",
       "       [0.5488184 ],\n",
       "       [0.55146956],\n",
       "       [0.54647535],\n",
       "       [0.54374844],\n",
       "       [0.5461667 ],\n",
       "       [0.54591924],\n",
       "       [0.5467343 ],\n",
       "       [0.545192  ],\n",
       "       [0.5454529 ],\n",
       "       [0.5439651 ],\n",
       "       [0.5450278 ],\n",
       "       [0.54748344],\n",
       "       [0.5598215 ],\n",
       "       [0.54800564],\n",
       "       [0.546187  ],\n",
       "       [0.5485061 ],\n",
       "       [0.54547983],\n",
       "       [0.543626  ],\n",
       "       [0.54570836],\n",
       "       [0.5437591 ],\n",
       "       [0.54688346],\n",
       "       [0.5464804 ],\n",
       "       [0.55234617],\n",
       "       [0.5457164 ],\n",
       "       [0.5448757 ],\n",
       "       [0.54646087],\n",
       "       [0.5450643 ],\n",
       "       [0.5450469 ],\n",
       "       [0.54420006],\n",
       "       [0.54682267],\n",
       "       [0.5459948 ],\n",
       "       [0.5450356 ],\n",
       "       [0.5455998 ],\n",
       "       [0.54641134],\n",
       "       [0.5519703 ],\n",
       "       [0.55343413],\n",
       "       [0.54433227],\n",
       "       [0.54559803],\n",
       "       [0.5525786 ],\n",
       "       [0.5457597 ],\n",
       "       [0.5451732 ],\n",
       "       [0.5453925 ],\n",
       "       [0.55191183],\n",
       "       [0.5498139 ],\n",
       "       [0.5457106 ],\n",
       "       [0.545203  ],\n",
       "       [0.5457013 ],\n",
       "       [0.5466333 ],\n",
       "       [0.54598635],\n",
       "       [0.54884   ],\n",
       "       [0.54519826],\n",
       "       [0.54667675],\n",
       "       [0.548087  ],\n",
       "       [0.54577315],\n",
       "       [0.5481941 ],\n",
       "       [0.5449438 ],\n",
       "       [0.5463655 ],\n",
       "       [0.55604863],\n",
       "       [0.54605836],\n",
       "       [0.5459526 ],\n",
       "       [0.5445046 ],\n",
       "       [0.54612666],\n",
       "       [0.5461217 ],\n",
       "       [0.55128163],\n",
       "       [0.5462514 ],\n",
       "       [0.54516315],\n",
       "       [0.5454989 ],\n",
       "       [0.5513224 ],\n",
       "       [0.5625676 ],\n",
       "       [0.54556304],\n",
       "       [0.54490036],\n",
       "       [0.5510295 ],\n",
       "       [0.547216  ],\n",
       "       [0.54780155],\n",
       "       [0.5535585 ],\n",
       "       [0.5516199 ],\n",
       "       [0.5469491 ],\n",
       "       [0.55280006],\n",
       "       [0.5451116 ],\n",
       "       [0.5455055 ],\n",
       "       [0.54721004],\n",
       "       [0.5449193 ],\n",
       "       [0.548021  ],\n",
       "       [0.5458727 ],\n",
       "       [0.5436142 ],\n",
       "       [0.54513675],\n",
       "       [0.5486991 ],\n",
       "       [0.54900354],\n",
       "       [0.55334777],\n",
       "       [0.54826677],\n",
       "       [0.5512241 ],\n",
       "       [0.5447322 ],\n",
       "       [0.5456863 ],\n",
       "       [0.5451105 ],\n",
       "       [0.54852563],\n",
       "       [0.54546815],\n",
       "       [0.54646266],\n",
       "       [0.5478515 ],\n",
       "       [0.5413133 ],\n",
       "       [0.55102175],\n",
       "       [0.5481376 ],\n",
       "       [0.5468713 ],\n",
       "       [0.5456278 ],\n",
       "       [0.54615116],\n",
       "       [0.54489785],\n",
       "       [0.5488246 ],\n",
       "       [0.5459124 ],\n",
       "       [0.54765725],\n",
       "       [0.54913867],\n",
       "       [0.54503185],\n",
       "       [0.55186146],\n",
       "       [0.54599255],\n",
       "       [0.54665834],\n",
       "       [0.5468475 ],\n",
       "       [0.5477702 ],\n",
       "       [0.5461389 ],\n",
       "       [0.54645115],\n",
       "       [0.54643035],\n",
       "       [0.5460285 ],\n",
       "       [0.5457219 ],\n",
       "       [0.54784936],\n",
       "       [0.5457061 ],\n",
       "       [0.54729134],\n",
       "       [0.54582244],\n",
       "       [0.54594696],\n",
       "       [0.54395926],\n",
       "       [0.54694295],\n",
       "       [0.5440069 ],\n",
       "       [0.5467692 ],\n",
       "       [0.5463311 ],\n",
       "       [0.545496  ],\n",
       "       [0.54681873],\n",
       "       [0.5449334 ],\n",
       "       [0.54577255],\n",
       "       [0.54550403],\n",
       "       [0.5459974 ],\n",
       "       [0.54714566],\n",
       "       [0.5463838 ],\n",
       "       [0.550774  ],\n",
       "       [0.5453817 ],\n",
       "       [0.5457599 ],\n",
       "       [0.54587716],\n",
       "       [0.550816  ],\n",
       "       [0.54416734],\n",
       "       [0.55184126],\n",
       "       [0.5466084 ],\n",
       "       [0.54835397],\n",
       "       [0.55373645],\n",
       "       [0.5457826 ],\n",
       "       [0.55310386],\n",
       "       [0.54562336],\n",
       "       [0.544898  ],\n",
       "       [0.5556145 ],\n",
       "       [0.5451157 ]], dtype=float32)"
      ]
     },
     "execution_count": 118,
     "metadata": {},
     "output_type": "execute_result"
    }
   ],
   "source": [
    "#y_test.head\n",
    "y_test_pred"
   ]
  },
  {
   "cell_type": "code",
   "execution_count": 117,
   "metadata": {},
   "outputs": [
    {
     "data": {
      "image/png": "[encoded data removed]",
      "text/plain": [
       "<Figure size 432x288 with 1 Axes>"
      ]
     },
     "metadata": {
      "needs_background": "light"
     },
     "output_type": "display_data"
    }
   ],
   "source": [
    "import matplotlib.pyplot as plt\n",
    "data = [(y_test),(y_test_pred)]\n",
    "labels, y = data\n",
    "\n",
    "x = range(len(y))\n",
    "plt.plot(x, y, 'o')\n",
    "plt.xticks(x, labels)\n",
    "plt.axis([0,1000,0,1.0])\n",
    "plt.show()"
   ]
  },
  {
   "cell_type": "code",
   "execution_count": 25,
   "metadata": {},
   "outputs": [
    {
     "data": {
      "text/plain": [
       "(345, 1)"
      ]
     },
     "execution_count": 25,
     "metadata": {},
     "output_type": "execute_result"
    }
   ],
   "source": [
    "y_test_pred.shape"
   ]
  },
  {
   "cell_type": "code",
   "execution_count": 26,
   "metadata": {},
   "outputs": [
    {
     "ename": "YellowbrickTypeError",
     "evalue": "This estimator is not a regressor; try a classifier or clustering score visualizer instead!",
     "output_type": "error",
     "traceback": [
      "\u001b[1;31m---------------------------------------------------------------------------\u001b[0m",
      "\u001b[1;31mYellowbrickTypeError\u001b[0m                      Traceback (most recent call last)",
      "\u001b[1;32m<ipython-input-26-4d1748c78ebc>\u001b[0m in \u001b[0;36m<module>\u001b[1;34m\u001b[0m\n\u001b[0;32m      4\u001b[0m \u001b[1;32mfrom\u001b[0m \u001b[0myellowbrick\u001b[0m\u001b[1;33m.\u001b[0m\u001b[0mregressor\u001b[0m \u001b[1;32mimport\u001b[0m \u001b[0mPredictionError\u001b[0m\u001b[1;33m\u001b[0m\u001b[1;33m\u001b[0m\u001b[0m\n\u001b[0;32m      5\u001b[0m \u001b[1;33m\u001b[0m\u001b[0m\n\u001b[1;32m----> 6\u001b[1;33m \u001b[0mvisualizer\u001b[0m \u001b[1;33m=\u001b[0m \u001b[0mPredictionError\u001b[0m\u001b[1;33m(\u001b[0m\u001b[0mmodel\u001b[0m\u001b[1;33m)\u001b[0m\u001b[1;33m\u001b[0m\u001b[1;33m\u001b[0m\u001b[0m\n\u001b[0m\u001b[0;32m      7\u001b[0m \u001b[0mvisualizer\u001b[0m\u001b[1;33m.\u001b[0m\u001b[0mfit\u001b[0m\u001b[1;33m(\u001b[0m\u001b[0mX_train\u001b[0m\u001b[1;33m,\u001b[0m \u001b[0my_train_pred\u001b[0m\u001b[1;33m)\u001b[0m  \u001b[1;31m# Fit the training data to the visualizer\u001b[0m\u001b[1;33m\u001b[0m\u001b[1;33m\u001b[0m\u001b[0m\n\u001b[0;32m      8\u001b[0m \u001b[0mvisualizer\u001b[0m\u001b[1;33m.\u001b[0m\u001b[0mscore\u001b[0m\u001b[1;33m(\u001b[0m\u001b[0mX_test\u001b[0m\u001b[1;33m,\u001b[0m \u001b[0my_test_pred\u001b[0m\u001b[1;33m)\u001b[0m  \u001b[1;31m# Evaluate the model on the test data\u001b[0m\u001b[1;33m\u001b[0m\u001b[1;33m\u001b[0m\u001b[0m\n",
      "\u001b[1;32m~\\Anaconda3\\envs\\tf\\Lib\\site-packages\\yellowbrick\\regressor\\residuals.py\u001b[0m in \u001b[0;36m__init__\u001b[1;34m(self, model, ax, shared_limits, bestfit, identity, alpha, is_fitted, **kwargs)\u001b[0m\n\u001b[0;32m    144\u001b[0m \u001b[1;33m\u001b[0m\u001b[0m\n\u001b[0;32m    145\u001b[0m         \u001b[1;31m# Initialize the visualizer\u001b[0m\u001b[1;33m\u001b[0m\u001b[1;33m\u001b[0m\u001b[1;33m\u001b[0m\u001b[0m\n\u001b[1;32m--> 146\u001b[1;33m         \u001b[0msuper\u001b[0m\u001b[1;33m(\u001b[0m\u001b[0mPredictionError\u001b[0m\u001b[1;33m,\u001b[0m \u001b[0mself\u001b[0m\u001b[1;33m)\u001b[0m\u001b[1;33m.\u001b[0m\u001b[0m__init__\u001b[0m\u001b[1;33m(\u001b[0m\u001b[0mmodel\u001b[0m\u001b[1;33m,\u001b[0m \u001b[0max\u001b[0m\u001b[1;33m=\u001b[0m\u001b[0max\u001b[0m\u001b[1;33m,\u001b[0m \u001b[1;33m**\u001b[0m\u001b[0mkwargs\u001b[0m\u001b[1;33m)\u001b[0m\u001b[1;33m\u001b[0m\u001b[1;33m\u001b[0m\u001b[0m\n\u001b[0m\u001b[0;32m    147\u001b[0m \u001b[1;33m\u001b[0m\u001b[0m\n\u001b[0;32m    148\u001b[0m         \u001b[1;31m# Visual arguments\u001b[0m\u001b[1;33m\u001b[0m\u001b[1;33m\u001b[0m\u001b[1;33m\u001b[0m\u001b[0m\n",
      "\u001b[1;32m~\\Anaconda3\\envs\\tf\\Lib\\site-packages\\yellowbrick\\regressor\\base.py\u001b[0m in \u001b[0;36m__init__\u001b[1;34m(self, model, ax, fig, force_model, **kwargs)\u001b[0m\n\u001b[0;32m     78\u001b[0m         \u001b[1;32mif\u001b[0m \u001b[1;32mnot\u001b[0m \u001b[0mforce_model\u001b[0m \u001b[1;32mand\u001b[0m \u001b[1;32mnot\u001b[0m \u001b[0misregressor\u001b[0m\u001b[1;33m(\u001b[0m\u001b[0mmodel\u001b[0m\u001b[1;33m)\u001b[0m\u001b[1;33m:\u001b[0m\u001b[1;33m\u001b[0m\u001b[1;33m\u001b[0m\u001b[0m\n\u001b[0;32m     79\u001b[0m             raise YellowbrickTypeError(\n\u001b[1;32m---> 80\u001b[1;33m                 \u001b[1;34m\"This estimator is not a regressor; try a classifier or \"\u001b[0m\u001b[1;33m\u001b[0m\u001b[1;33m\u001b[0m\u001b[0m\n\u001b[0m\u001b[0;32m     81\u001b[0m                 \u001b[1;34m\"clustering score visualizer instead!\"\u001b[0m\u001b[1;33m\u001b[0m\u001b[1;33m\u001b[0m\u001b[0m\n\u001b[0;32m     82\u001b[0m             )\n",
      "\u001b[1;31mYellowbrickTypeError\u001b[0m: This estimator is not a regressor; try a classifier or clustering score visualizer instead!"
     ]
    }
   ],
   "source": [
    "from sklearn.model_selection import train_test_split\n",
    "from sklearn.linear_model import Lasso\n",
    "from yellowbrick.datasets import load_concrete\n",
    "from yellowbrick.regressor import PredictionError\n",
    "\n",
    "visualizer = PredictionError(model)\n",
    "visualizer.fit(X_train, y_train_pred)  # Fit the training data to the visualizer\n",
    "visualizer.score(X_test, y_test_pred)  # Evaluate the model on the test data\n",
    "visualizer.show()                 # Finalize and render the figure"
   ]
  },
  {
   "cell_type": "code",
   "execution_count": 116,
   "metadata": {},
   "outputs": [
    {
     "data": {
      "image/png": "[encoded data removed]",
      "text/plain": [
       "<Figure size 432x288 with 1 Axes>"
      ]
     },
     "metadata": {
      "needs_background": "light"
     },
     "output_type": "display_data"
    }
   ],
   "source": [
    "plt.scatter(y_test, y_test_pred, marker='o')\n",
    "plt.xlim(0.4,0.7)\n",
    "plt.ylim(0.4,0.7)\n",
    "plt.show()"
   ]
  },
  {
   "cell_type": "code",
   "execution_count": 37,
   "metadata": {},
   "outputs": [
    {
     "name": "stdout",
     "output_type": "stream",
     "text": [
      "Collecting yellowbrick\n",
      "  Downloading https://files.pythonhosted.org/packages/d1/cf/6d6ab47c0759d246262f9bdb53e89be3814bf1774bc51fffff995f5859f9/yellowbrick-1.0.1-py3-none-any.whl (378kB)\n",
      "Requirement already satisfied: cycler>=0.10.0 in c:\\users\\hp\\anaconda3\\envs\\tf\\lib\\site-packages (from yellowbrick) (0.10.0)\n",
      "Requirement already satisfied: scipy>=1.0.0 in c:\\users\\hp\\anaconda3\\envs\\tf\\lib\\site-packages (from yellowbrick) (1.3.1)\n",
      "Requirement already satisfied: scikit-learn>=0.20 in c:\\users\\hp\\anaconda3\\envs\\tf\\lib\\site-packages (from yellowbrick) (0.21.2)\n",
      "Requirement already satisfied: numpy>=1.13.0 in c:\\users\\hp\\anaconda3\\envs\\tf\\lib\\site-packages (from yellowbrick) (1.16.4)\n",
      "Requirement already satisfied: matplotlib!=3.0.0,>=2.0.2 in c:\\users\\hp\\anaconda3\\envs\\tf\\lib\\site-packages (from yellowbrick) (3.1.1)\n",
      "Requirement already satisfied: six in c:\\users\\hp\\anaconda3\\envs\\tf\\lib\\site-packages (from cycler>=0.10.0->yellowbrick) (1.12.0)\n",
      "Requirement already satisfied: joblib>=0.11 in c:\\users\\hp\\anaconda3\\envs\\tf\\lib\\site-packages (from scikit-learn>=0.20->yellowbrick) (0.13.2)\n",
      "Requirement already satisfied: kiwisolver>=1.0.1 in c:\\users\\hp\\anaconda3\\envs\\tf\\lib\\site-packages (from matplotlib!=3.0.0,>=2.0.2->yellowbrick) (1.1.0)\n",
      "Requirement already satisfied: pyparsing!=2.0.4,!=2.1.2,!=2.1.6,>=2.0.1 in c:\\users\\hp\\anaconda3\\envs\\tf\\lib\\site-packages (from matplotlib!=3.0.0,>=2.0.2->yellowbrick) (2.4.2)\n",
      "Requirement already satisfied: python-dateutil>=2.1 in c:\\users\\hp\\anaconda3\\envs\\tf\\lib\\site-packages (from matplotlib!=3.0.0,>=2.0.2->yellowbrick) (2.8.0)\n",
      "Requirement already satisfied: setuptools in c:\\users\\hp\\anaconda3\\envs\\tf\\lib\\site-packages (from kiwisolver>=1.0.1->matplotlib!=3.0.0,>=2.0.2->yellowbrick) (41.0.1)\n",
      "Installing collected packages: yellowbrick\n",
      "Successfully installed yellowbrick-1.0.1\n",
      "Note: you may need to restart the kernel to use updated packages.\n"
     ]
    }
   ],
   "source": [
    "pip install yellowbrick"
   ]
  },
  {
   "cell_type": "code",
   "execution_count": null,
   "metadata": {},
   "outputs": [],
   "source": []
  },
  {
   "cell_type": "code",
   "execution_count": null,
   "metadata": {},
   "outputs": [],
   "source": []
  },
  {
   "cell_type": "code",
   "execution_count": null,
   "metadata": {},
   "outputs": [],
   "source": []
  },
  {
   "cell_type": "code",
   "execution_count": 32,
   "metadata": {},
   "outputs": [],
   "source": [
    "from pandas import DataFrame\n",
    "df12 = DataFrame(y_test_pred)\n"
   ]
  },
  {
   "cell_type": "code",
   "execution_count": 114,
   "metadata": {},
   "outputs": [],
   "source": [
    "export_csv=df12.to_csv(r'C:\\Users\\HP\\Documents\\Well PR\\result12.csv',index=None, header=True)"
   ]
  },
  {
   "cell_type": "code",
   "execution_count": 118,
   "metadata": {},
   "outputs": [],
   "source": [
    "df22=DataFrame(y_test)\n",
    "export_csv=df22.to_csv(r'C:\\Users\\HP\\Documents\\Well PR\\result22.csv',index=None, header=True)"
   ]
  },
  {
   "cell_type": "code",
   "execution_count": 33,
   "metadata": {},
   "outputs": [
    {
     "name": "stdout",
     "output_type": "stream",
     "text": [
      "            0\n",
      "0    0.544135\n",
      "1    0.532718\n",
      "2    0.538906\n",
      "3    0.515668\n",
      "4    0.517048\n",
      "..        ...\n",
      "340  0.512331\n",
      "341  0.531537\n",
      "342  0.517324\n",
      "343  0.520129\n",
      "344  0.505876\n",
      "\n",
      "[345 rows x 1 columns]\n"
     ]
    }
   ],
   "source": [
    "print(df12)"
   ]
  },
  {
   "cell_type": "code",
   "execution_count": 35,
   "metadata": {},
   "outputs": [
    {
     "name": "stdout",
     "output_type": "stream",
     "text": [
      "     Shmax_norm\n",
      "949    0.561793\n",
      "94     0.549750\n",
      "135    0.516194\n",
      "614    0.526726\n",
      "354    0.506751\n",
      "..          ...\n",
      "33     0.510374\n",
      "809    0.551021\n",
      "386    0.513296\n",
      "57     0.509341\n",
      "528    0.527025\n",
      "\n",
      "[345 rows x 1 columns]\n"
     ]
    }
   ],
   "source": [
    "print(y_test)"
   ]
  },
  {
   "cell_type": "code",
   "execution_count": 37,
   "metadata": {},
   "outputs": [
    {
     "ename": "SyntaxError",
     "evalue": "invalid syntax (<ipython-input-37-d004dd126760>, line 1)",
     "output_type": "error",
     "traceback": [
      "\u001b[1;36m  File \u001b[1;32m\"<ipython-input-37-d004dd126760>\"\u001b[1;36m, line \u001b[1;32m1\u001b[0m\n\u001b[1;33m    pip install git+https://github.com/sat28/githubcommit.git\u001b[0m\n\u001b[1;37m              ^\u001b[0m\n\u001b[1;31mSyntaxError\u001b[0m\u001b[1;31m:\u001b[0m invalid syntax\n"
     ]
    }
   ],
   "source": [
    "pip install git+https://github.com/sat28/githubcommit.git\n",
    "jupyter serverextension enable --py githubcommit\n",
    "jupyter nbextension install --py githubcommit"
   ]
  }
 ],
 "metadata": {
  "celltoolbar": "Raw Cell Format",
  "kernelspec": {
   "display_name": "Python 3",
   "language": "python",
   "name": "python3"
  },
  "language_info": {
   "codemirror_mode": {
    "name": "ipython",
    "version": 3
   },
   "file_extension": ".py",
   "mimetype": "text/x-python",
   "name": "python",
   "nbconvert_exporter": "python",
   "pygments_lexer": "ipython3",
   "version": "3.7.4"
  }
 },
 "nbformat": 4,
 "nbformat_minor": 2
}
